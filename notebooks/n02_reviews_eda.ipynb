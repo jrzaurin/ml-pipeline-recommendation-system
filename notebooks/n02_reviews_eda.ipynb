{
 "cells": [
  {
   "cell_type": "code",
   "execution_count": 65,
   "metadata": {},
   "outputs": [],
   "source": [
    "from pathlib import Path\n",
    "\n",
    "import pandas as pd\n",
    "import numpy as np\n",
    "import matplotlib.pyplot as plt\n",
    "import seaborn as sns\n",
    "sns.set()\n",
    "from collections import Counter"
   ]
  },
  {
   "cell_type": "code",
   "execution_count": 3,
   "metadata": {},
   "outputs": [],
   "source": [
    "RAW_DATA_DIR = Path(\"data/raw/amazon\")"
   ]
  },
  {
   "cell_type": "code",
   "execution_count": 38,
   "metadata": {},
   "outputs": [],
   "source": [
    "reviews = pd.read_feather(RAW_DATA_DIR / \"Movies_and_TV.f\")"
   ]
  },
  {
   "cell_type": "code",
   "execution_count": 5,
   "metadata": {},
   "outputs": [
    {
     "data": {
      "text/html": [
       "<div>\n",
       "<style scoped>\n",
       "    .dataframe tbody tr th:only-of-type {\n",
       "        vertical-align: middle;\n",
       "    }\n",
       "\n",
       "    .dataframe tbody tr th {\n",
       "        vertical-align: top;\n",
       "    }\n",
       "\n",
       "    .dataframe thead th {\n",
       "        text-align: right;\n",
       "    }\n",
       "</style>\n",
       "<table border=\"1\" class=\"dataframe\">\n",
       "  <thead>\n",
       "    <tr style=\"text-align: right;\">\n",
       "      <th></th>\n",
       "      <th>overall</th>\n",
       "      <th>verified</th>\n",
       "      <th>reviewTime</th>\n",
       "      <th>reviewerID</th>\n",
       "      <th>asin</th>\n",
       "      <th>style</th>\n",
       "      <th>reviewerName</th>\n",
       "      <th>reviewText</th>\n",
       "      <th>summary</th>\n",
       "      <th>unixReviewTime</th>\n",
       "      <th>vote</th>\n",
       "      <th>image</th>\n",
       "    </tr>\n",
       "  </thead>\n",
       "  <tbody>\n",
       "    <tr>\n",
       "      <th>0</th>\n",
       "      <td>5</td>\n",
       "      <td>True</td>\n",
       "      <td>03 11, 2013</td>\n",
       "      <td>A3478QRKQDOPQ2</td>\n",
       "      <td>0001527665</td>\n",
       "      <td>{'Color:': None, 'Format:': ' VHS Tape', 'Shap...</td>\n",
       "      <td>jacki</td>\n",
       "      <td>really happy they got evangelised .. spoiler a...</td>\n",
       "      <td>great</td>\n",
       "      <td>1362960000</td>\n",
       "      <td>None</td>\n",
       "      <td>None</td>\n",
       "    </tr>\n",
       "    <tr>\n",
       "      <th>1</th>\n",
       "      <td>5</td>\n",
       "      <td>True</td>\n",
       "      <td>02 18, 2013</td>\n",
       "      <td>A2VHSG6TZHU1OB</td>\n",
       "      <td>0001527665</td>\n",
       "      <td>{'Color:': None, 'Format:': ' Amazon Video', '...</td>\n",
       "      <td>Ken P</td>\n",
       "      <td>Having lived in West New Guinea (Papua) during...</td>\n",
       "      <td>Realistic and Accurate</td>\n",
       "      <td>1361145600</td>\n",
       "      <td>3</td>\n",
       "      <td>None</td>\n",
       "    </tr>\n",
       "    <tr>\n",
       "      <th>2</th>\n",
       "      <td>5</td>\n",
       "      <td>False</td>\n",
       "      <td>01 17, 2013</td>\n",
       "      <td>A23EJWOW1TLENE</td>\n",
       "      <td>0001527665</td>\n",
       "      <td>{'Color:': None, 'Format:': ' Amazon Video', '...</td>\n",
       "      <td>Reina Berumen</td>\n",
       "      <td>Excellent look into contextualizing the Gospel...</td>\n",
       "      <td>Peace Child</td>\n",
       "      <td>1358380800</td>\n",
       "      <td>None</td>\n",
       "      <td>None</td>\n",
       "    </tr>\n",
       "    <tr>\n",
       "      <th>3</th>\n",
       "      <td>5</td>\n",
       "      <td>True</td>\n",
       "      <td>01 10, 2013</td>\n",
       "      <td>A1KM9FNEJ8Q171</td>\n",
       "      <td>0001527665</td>\n",
       "      <td>{'Color:': None, 'Format:': ' Amazon Video', '...</td>\n",
       "      <td>N Coyle</td>\n",
       "      <td>More than anything, I've been challenged to fi...</td>\n",
       "      <td>Culturally relevant ways to share the love of ...</td>\n",
       "      <td>1357776000</td>\n",
       "      <td>None</td>\n",
       "      <td>None</td>\n",
       "    </tr>\n",
       "    <tr>\n",
       "      <th>4</th>\n",
       "      <td>4</td>\n",
       "      <td>True</td>\n",
       "      <td>12 26, 2012</td>\n",
       "      <td>A38LY2SSHVHRYB</td>\n",
       "      <td>0001527665</td>\n",
       "      <td>{'Color:': None, 'Format:': ' Amazon Video', '...</td>\n",
       "      <td>Jodie Vesely</td>\n",
       "      <td>This is a great movie for a missionary going i...</td>\n",
       "      <td>Good Movie! Great for cross-cultural missionar...</td>\n",
       "      <td>1356480000</td>\n",
       "      <td>None</td>\n",
       "      <td>None</td>\n",
       "    </tr>\n",
       "  </tbody>\n",
       "</table>\n",
       "</div>"
      ],
      "text/plain": [
       "   overall  verified   reviewTime      reviewerID        asin  \\\n",
       "0        5      True  03 11, 2013  A3478QRKQDOPQ2  0001527665   \n",
       "1        5      True  02 18, 2013  A2VHSG6TZHU1OB  0001527665   \n",
       "2        5     False  01 17, 2013  A23EJWOW1TLENE  0001527665   \n",
       "3        5      True  01 10, 2013  A1KM9FNEJ8Q171  0001527665   \n",
       "4        4      True  12 26, 2012  A38LY2SSHVHRYB  0001527665   \n",
       "\n",
       "                                               style   reviewerName  \\\n",
       "0  {'Color:': None, 'Format:': ' VHS Tape', 'Shap...          jacki   \n",
       "1  {'Color:': None, 'Format:': ' Amazon Video', '...          Ken P   \n",
       "2  {'Color:': None, 'Format:': ' Amazon Video', '...  Reina Berumen   \n",
       "3  {'Color:': None, 'Format:': ' Amazon Video', '...        N Coyle   \n",
       "4  {'Color:': None, 'Format:': ' Amazon Video', '...   Jodie Vesely   \n",
       "\n",
       "                                          reviewText  \\\n",
       "0  really happy they got evangelised .. spoiler a...   \n",
       "1  Having lived in West New Guinea (Papua) during...   \n",
       "2  Excellent look into contextualizing the Gospel...   \n",
       "3  More than anything, I've been challenged to fi...   \n",
       "4  This is a great movie for a missionary going i...   \n",
       "\n",
       "                                             summary  unixReviewTime  vote  \\\n",
       "0                                              great      1362960000  None   \n",
       "1                             Realistic and Accurate      1361145600     3   \n",
       "2                                        Peace Child      1358380800  None   \n",
       "3  Culturally relevant ways to share the love of ...      1357776000  None   \n",
       "4  Good Movie! Great for cross-cultural missionar...      1356480000  None   \n",
       "\n",
       "  image  \n",
       "0  None  \n",
       "1  None  \n",
       "2  None  \n",
       "3  None  \n",
       "4  None  "
      ]
     },
     "execution_count": 5,
     "metadata": {},
     "output_type": "execute_result"
    }
   ],
   "source": [
    "reviews.head()"
   ]
  },
  {
   "cell_type": "code",
   "execution_count": 39,
   "metadata": {},
   "outputs": [],
   "source": [
    "reviews[\"reviewDate\"] = pd.to_datetime(reviews[\"unixReviewTime\"], unit=\"s\")"
   ]
  },
  {
   "cell_type": "markdown",
   "metadata": {},
   "source": [
    "To train the model, we will probably use users that have interacted with at least N items (say N=5)"
   ]
  },
  {
   "cell_type": "code",
   "execution_count": 40,
   "metadata": {},
   "outputs": [],
   "source": [
    "user_counts = reviews.reviewerID.value_counts()\n",
    "user_counts = user_counts[user_counts >= 5].reset_index()\n",
    "user_counts.columns = [\"reviewerID\", \"counts\"]"
   ]
  },
  {
   "cell_type": "code",
   "execution_count": 41,
   "metadata": {},
   "outputs": [
    {
     "data": {
      "text/html": [
       "<div>\n",
       "<style scoped>\n",
       "    .dataframe tbody tr th:only-of-type {\n",
       "        vertical-align: middle;\n",
       "    }\n",
       "\n",
       "    .dataframe tbody tr th {\n",
       "        vertical-align: top;\n",
       "    }\n",
       "\n",
       "    .dataframe thead th {\n",
       "        text-align: right;\n",
       "    }\n",
       "</style>\n",
       "<table border=\"1\" class=\"dataframe\">\n",
       "  <thead>\n",
       "    <tr style=\"text-align: right;\">\n",
       "      <th></th>\n",
       "      <th>reviewerID</th>\n",
       "      <th>counts</th>\n",
       "    </tr>\n",
       "  </thead>\n",
       "  <tbody>\n",
       "    <tr>\n",
       "      <th>0</th>\n",
       "      <td>AV6QDP8Q0ONK4</td>\n",
       "      <td>4254</td>\n",
       "    </tr>\n",
       "    <tr>\n",
       "      <th>1</th>\n",
       "      <td>A1GGOC9PVDXW7Z</td>\n",
       "      <td>2292</td>\n",
       "    </tr>\n",
       "    <tr>\n",
       "      <th>2</th>\n",
       "      <td>A328S9RN3U5M68</td>\n",
       "      <td>2175</td>\n",
       "    </tr>\n",
       "    <tr>\n",
       "      <th>3</th>\n",
       "      <td>ABO2ZI2Y5DQ9T</td>\n",
       "      <td>2136</td>\n",
       "    </tr>\n",
       "    <tr>\n",
       "      <th>4</th>\n",
       "      <td>AWG2O9C42XW5G</td>\n",
       "      <td>2046</td>\n",
       "    </tr>\n",
       "  </tbody>\n",
       "</table>\n",
       "</div>"
      ],
      "text/plain": [
       "       reviewerID  counts\n",
       "0   AV6QDP8Q0ONK4    4254\n",
       "1  A1GGOC9PVDXW7Z    2292\n",
       "2  A328S9RN3U5M68    2175\n",
       "3   ABO2ZI2Y5DQ9T    2136\n",
       "4   AWG2O9C42XW5G    2046"
      ]
     },
     "execution_count": 41,
     "metadata": {},
     "output_type": "execute_result"
    }
   ],
   "source": [
    "user_counts.head()"
   ]
  },
  {
   "cell_type": "markdown",
   "metadata": {},
   "source": [
    "let's have a look to the number of interactions per user distribution"
   ]
  },
  {
   "cell_type": "code",
   "execution_count": 11,
   "metadata": {},
   "outputs": [
    {
     "data": {
      "text/plain": [
       "29.0"
      ]
     },
     "execution_count": 11,
     "metadata": {},
     "output_type": "execute_result"
    }
   ],
   "source": [
    "user_counts.counts.quantile(0.95)"
   ]
  },
  {
   "cell_type": "code",
   "execution_count": 12,
   "metadata": {},
   "outputs": [
    {
     "data": {
      "text/plain": [
       "311221"
      ]
     },
     "execution_count": 12,
     "metadata": {},
     "output_type": "execute_result"
    }
   ],
   "source": [
    "user_counts.reviewerID.nunique()"
   ]
  },
  {
   "cell_type": "code",
   "execution_count": 15,
   "metadata": {},
   "outputs": [],
   "source": [
    "counts_sample = user_counts.sample(10000)"
   ]
  },
  {
   "cell_type": "code",
   "execution_count": 20,
   "metadata": {},
   "outputs": [
    {
     "data": {
      "text/plain": [
       "(4.0, 100.0)"
      ]
     },
     "execution_count": 20,
     "metadata": {},
     "output_type": "execute_result"
    },
    {
     "data": {
      "image/png": "[encoded data removed]",
      "text/plain": [
       "<Figure size 360x360 with 1 Axes>"
      ]
     },
     "metadata": {},
     "output_type": "display_data"
    }
   ],
   "source": [
    "sns.displot(counts_sample.counts)\n",
    "plt.xlim((4, 100))"
   ]
  },
  {
   "cell_type": "code",
   "execution_count": 22,
   "metadata": {},
   "outputs": [
    {
     "data": {
      "text/plain": [
       "29.0"
      ]
     },
     "execution_count": 22,
     "metadata": {},
     "output_type": "execute_result"
    }
   ],
   "source": [
    "user_counts.counts.quantile(0.95)"
   ]
  },
  {
   "cell_type": "code",
   "execution_count": 42,
   "metadata": {},
   "outputs": [],
   "source": [
    "reviews_sample = reviews[\n",
    "    reviews.reviewerID.isin(user_counts.reviewerID)\n",
    "]"
   ]
  },
  {
   "cell_type": "code",
   "execution_count": 43,
   "metadata": {},
   "outputs": [
    {
     "data": {
      "text/plain": [
       "(3611487, 13)"
      ]
     },
     "execution_count": 43,
     "metadata": {},
     "output_type": "execute_result"
    }
   ],
   "source": [
    "reviews_sample.shape"
   ]
  },
  {
   "cell_type": "markdown",
   "metadata": {},
   "source": [
    "Initially, for the life simulation, I thought we could use some period of time, like a couple of weeks. However, there are little interactions during that period, and I think is just a bit more convenient to simply select the last N interactions (N=50000) for that simulation"
   ]
  },
  {
   "cell_type": "code",
   "execution_count": 44,
   "metadata": {},
   "outputs": [],
   "source": [
    "data_for_live_simulation = reviews_sample.sort_values('reviewDate')[-50000:]"
   ]
  },
  {
   "cell_type": "code",
   "execution_count": 45,
   "metadata": {},
   "outputs": [],
   "source": [
    "reviews_sample = reviews_sample.sort_values('reviewDate')[:-50000]"
   ]
  },
  {
   "cell_type": "code",
   "execution_count": 46,
   "metadata": {},
   "outputs": [
    {
     "data": {
      "text/plain": [
       "Timestamp('2018-03-22 00:00:00')"
      ]
     },
     "execution_count": 46,
     "metadata": {},
     "output_type": "execute_result"
    }
   ],
   "source": [
    "data_for_live_simulation.reviewDate.min()"
   ]
  },
  {
   "cell_type": "code",
   "execution_count": 47,
   "metadata": {},
   "outputs": [],
   "source": [
    "start_date = data_for_live_simulation.reviewDate.min() - pd.DateOffset(years=5)"
   ]
  },
  {
   "cell_type": "code",
   "execution_count": 48,
   "metadata": {},
   "outputs": [
    {
     "data": {
      "text/plain": [
       "Timestamp('2013-03-22 00:00:00')"
      ]
     },
     "execution_count": 48,
     "metadata": {},
     "output_type": "execute_result"
    }
   ],
   "source": [
    "start_date"
   ]
  },
  {
   "cell_type": "markdown",
   "metadata": {},
   "source": [
    "We use 5 years of data to build a recommendation system"
   ]
  },
  {
   "cell_type": "code",
   "execution_count": 49,
   "metadata": {},
   "outputs": [],
   "source": [
    "reviews_sample = reviews_sample[reviews_sample.reviewDate >= start_date]"
   ]
  },
  {
   "cell_type": "code",
   "execution_count": 50,
   "metadata": {},
   "outputs": [
    {
     "data": {
      "text/plain": [
       "(2618100, 13)"
      ]
     },
     "execution_count": 50,
     "metadata": {},
     "output_type": "execute_result"
    }
   ],
   "source": [
    "reviews_sample.shape"
   ]
  },
  {
   "cell_type": "code",
   "execution_count": 51,
   "metadata": {},
   "outputs": [
    {
     "data": {
      "text/plain": [
       "281549"
      ]
     },
     "execution_count": 51,
     "metadata": {},
     "output_type": "execute_result"
    }
   ],
   "source": [
    "reviews_sample.reviewerID.nunique()"
   ]
  },
  {
   "cell_type": "markdown",
   "metadata": {},
   "source": [
    "Regarding to how one might split into train, valid and test, we could go a number of ways. We could split simply based on a timelime, which is probably what makes the most sense. Also, we could use the method followed when using the mult-VAE (splitting based on customers, rather than time) or in the neural cf paper (use the last interaction for testing and all the former for training). I need to think first on the system."
   ]
  },
  {
   "cell_type": "code",
   "execution_count": 66,
   "metadata": {},
   "outputs": [
    {
     "data": {
      "text/plain": [
       "overall           1.000000\n",
       "verified          1.000000\n",
       "reviewTime        1.000000\n",
       "reviewerID        1.000000\n",
       "asin              1.000000\n",
       "style             0.957086\n",
       "reviewerName      0.999974\n",
       "reviewText        0.999409\n",
       "summary           0.999809\n",
       "unixReviewTime    1.000000\n",
       "vote              0.091572\n",
       "image             0.002032\n",
       "reviewDate        1.000000\n",
       "dtype: float64"
      ]
     },
     "execution_count": 66,
     "metadata": {},
     "output_type": "execute_result"
    }
   ],
   "source": [
    "reviews_sample.count()/reviews_sample.shape[0]"
   ]
  },
  {
   "cell_type": "markdown",
   "metadata": {},
   "source": [
    "we wull use all but vote and image"
   ]
  },
  {
   "cell_type": "code",
   "execution_count": 53,
   "metadata": {},
   "outputs": [
    {
     "data": {
      "text/html": [
       "<div>\n",
       "<style scoped>\n",
       "    .dataframe tbody tr th:only-of-type {\n",
       "        vertical-align: middle;\n",
       "    }\n",
       "\n",
       "    .dataframe tbody tr th {\n",
       "        vertical-align: top;\n",
       "    }\n",
       "\n",
       "    .dataframe thead th {\n",
       "        text-align: right;\n",
       "    }\n",
       "</style>\n",
       "<table border=\"1\" class=\"dataframe\">\n",
       "  <thead>\n",
       "    <tr style=\"text-align: right;\">\n",
       "      <th></th>\n",
       "      <th>overall</th>\n",
       "      <th>verified</th>\n",
       "      <th>reviewTime</th>\n",
       "      <th>reviewerID</th>\n",
       "      <th>asin</th>\n",
       "      <th>style</th>\n",
       "      <th>reviewerName</th>\n",
       "      <th>reviewText</th>\n",
       "      <th>summary</th>\n",
       "      <th>unixReviewTime</th>\n",
       "      <th>vote</th>\n",
       "      <th>image</th>\n",
       "      <th>reviewDate</th>\n",
       "    </tr>\n",
       "  </thead>\n",
       "  <tbody>\n",
       "    <tr>\n",
       "      <th>2150792</th>\n",
       "      <td>5</td>\n",
       "      <td>True</td>\n",
       "      <td>03 22, 2013</td>\n",
       "      <td>A1MHTXJA6IV1IY</td>\n",
       "      <td>B0002YLC1U</td>\n",
       "      <td>{'Color:': None, 'Format:': ' DVD', 'Shape:': ...</td>\n",
       "      <td>comradeandlover</td>\n",
       "      <td>1930s Oklahoma is the setting for a stirring t...</td>\n",
       "      <td>Carnivale</td>\n",
       "      <td>1363910400</td>\n",
       "      <td>None</td>\n",
       "      <td>None</td>\n",
       "      <td>2013-03-22</td>\n",
       "    </tr>\n",
       "    <tr>\n",
       "      <th>2150791</th>\n",
       "      <td>5</td>\n",
       "      <td>True</td>\n",
       "      <td>03 22, 2013</td>\n",
       "      <td>A3SGYEZJ6Y5KLR</td>\n",
       "      <td>B0002YLC1U</td>\n",
       "      <td>{'Color:': None, 'Format:': ' DVD', 'Shape:': ...</td>\n",
       "      <td>L  August Rockwell. Ill remember you forever</td>\n",
       "      <td>what can anyone say it is a DVD you have no ri...</td>\n",
       "      <td>VERY GOOD</td>\n",
       "      <td>1363910400</td>\n",
       "      <td>None</td>\n",
       "      <td>None</td>\n",
       "      <td>2013-03-22</td>\n",
       "    </tr>\n",
       "    <tr>\n",
       "      <th>2379327</th>\n",
       "      <td>5</td>\n",
       "      <td>False</td>\n",
       "      <td>03 22, 2013</td>\n",
       "      <td>A2EL5RKNMZSMMF</td>\n",
       "      <td>B000A7S1TU</td>\n",
       "      <td>None</td>\n",
       "      <td>G-Man</td>\n",
       "      <td>This 2 DVD set is another great lesson from Ho...</td>\n",
       "      <td>Great for a beginner with helpful tips for an ...</td>\n",
       "      <td>1363910400</td>\n",
       "      <td>None</td>\n",
       "      <td>None</td>\n",
       "      <td>2013-03-22</td>\n",
       "    </tr>\n",
       "    <tr>\n",
       "      <th>5358932</th>\n",
       "      <td>1</td>\n",
       "      <td>False</td>\n",
       "      <td>03 22, 2013</td>\n",
       "      <td>A2JJYM3Q1EF93U</td>\n",
       "      <td>B009OCR2U6</td>\n",
       "      <td>{'Color:': None, 'Format:': ' Amazon Video', '...</td>\n",
       "      <td>Eddie L</td>\n",
       "      <td>The premise in this movie is not feasible. I d...</td>\n",
       "      <td>No way</td>\n",
       "      <td>1363910400</td>\n",
       "      <td>2</td>\n",
       "      <td>None</td>\n",
       "      <td>2013-03-22</td>\n",
       "    </tr>\n",
       "    <tr>\n",
       "      <th>4069308</th>\n",
       "      <td>3</td>\n",
       "      <td>True</td>\n",
       "      <td>03 22, 2013</td>\n",
       "      <td>A1J46OZ55X3VBQ</td>\n",
       "      <td>B0034JKZ8G</td>\n",
       "      <td>{'Color:': None, 'Format:': ' Blu-ray', 'Shape...</td>\n",
       "      <td>Amanda Willis</td>\n",
       "      <td>The dvd played perfectly until my daugher brok...</td>\n",
       "      <td>Princess &amp; Frog</td>\n",
       "      <td>1363910400</td>\n",
       "      <td>None</td>\n",
       "      <td>None</td>\n",
       "      <td>2013-03-22</td>\n",
       "    </tr>\n",
       "  </tbody>\n",
       "</table>\n",
       "</div>"
      ],
      "text/plain": [
       "         overall  verified   reviewTime      reviewerID        asin  \\\n",
       "2150792        5      True  03 22, 2013  A1MHTXJA6IV1IY  B0002YLC1U   \n",
       "2150791        5      True  03 22, 2013  A3SGYEZJ6Y5KLR  B0002YLC1U   \n",
       "2379327        5     False  03 22, 2013  A2EL5RKNMZSMMF  B000A7S1TU   \n",
       "5358932        1     False  03 22, 2013  A2JJYM3Q1EF93U  B009OCR2U6   \n",
       "4069308        3      True  03 22, 2013  A1J46OZ55X3VBQ  B0034JKZ8G   \n",
       "\n",
       "                                                     style  \\\n",
       "2150792  {'Color:': None, 'Format:': ' DVD', 'Shape:': ...   \n",
       "2150791  {'Color:': None, 'Format:': ' DVD', 'Shape:': ...   \n",
       "2379327                                               None   \n",
       "5358932  {'Color:': None, 'Format:': ' Amazon Video', '...   \n",
       "4069308  {'Color:': None, 'Format:': ' Blu-ray', 'Shape...   \n",
       "\n",
       "                                         reviewerName  \\\n",
       "2150792                               comradeandlover   \n",
       "2150791  L  August Rockwell. Ill remember you forever   \n",
       "2379327                                         G-Man   \n",
       "5358932                                       Eddie L   \n",
       "4069308                                 Amanda Willis   \n",
       "\n",
       "                                                reviewText  \\\n",
       "2150792  1930s Oklahoma is the setting for a stirring t...   \n",
       "2150791  what can anyone say it is a DVD you have no ri...   \n",
       "2379327  This 2 DVD set is another great lesson from Ho...   \n",
       "5358932  The premise in this movie is not feasible. I d...   \n",
       "4069308  The dvd played perfectly until my daugher brok...   \n",
       "\n",
       "                                                   summary  unixReviewTime  \\\n",
       "2150792                                          Carnivale      1363910400   \n",
       "2150791                                          VERY GOOD      1363910400   \n",
       "2379327  Great for a beginner with helpful tips for an ...      1363910400   \n",
       "5358932                                             No way      1363910400   \n",
       "4069308                                    Princess & Frog      1363910400   \n",
       "\n",
       "         vote image reviewDate  \n",
       "2150792  None  None 2013-03-22  \n",
       "2150791  None  None 2013-03-22  \n",
       "2379327  None  None 2013-03-22  \n",
       "5358932     2  None 2013-03-22  \n",
       "4069308  None  None 2013-03-22  "
      ]
     },
     "execution_count": 53,
     "metadata": {},
     "output_type": "execute_result"
    }
   ],
   "source": [
    "reviews_sample.head()"
   ]
  },
  {
   "cell_type": "markdown",
   "metadata": {},
   "source": [
    "## Overall (stars)"
   ]
  },
  {
   "cell_type": "code",
   "execution_count": 54,
   "metadata": {},
   "outputs": [
    {
     "data": {
      "text/plain": [
       "5    1634902\n",
       "4     478469\n",
       "3     249823\n",
       "1     136471\n",
       "2     118435\n",
       "Name: overall, dtype: int64"
      ]
     },
     "execution_count": 54,
     "metadata": {},
     "output_type": "execute_result"
    }
   ],
   "source": [
    "reviews_sample.overall.value_counts()"
   ]
  },
  {
   "cell_type": "markdown",
   "metadata": {},
   "source": [
    "as we knew, most of them are 5. If we were for a multi categorical problem, I will map 1-2 into 0, 3 as 1 and 4-5 as 2"
   ]
  },
  {
   "cell_type": "markdown",
   "metadata": {},
   "source": [
    "## Verified"
   ]
  },
  {
   "cell_type": "code",
   "execution_count": 55,
   "metadata": {},
   "outputs": [
    {
     "data": {
      "text/plain": [
       "True     2214563\n",
       "False     403537\n",
       "Name: verified, dtype: int64"
      ]
     },
     "execution_count": 55,
     "metadata": {},
     "output_type": "execute_result"
    }
   ],
   "source": [
    "reviews_sample.verified.value_counts()"
   ]
  },
  {
   "cell_type": "markdown",
   "metadata": {},
   "source": [
    "binary, categorical feature"
   ]
  },
  {
   "cell_type": "markdown",
   "metadata": {},
   "source": [
    "## reviewTime\n",
    "\n",
    "Here we could build a number of behavioural features: most commin time of the day when they buy, most common day of the week or mean or median timediff between events "
   ]
  },
  {
   "cell_type": "markdown",
   "metadata": {},
   "source": [
    "## reviewerID\n",
    "\n",
    "I will find the presentation where the guys at Catboost use users as a categorical feature (would be \"equivalent\" as using embeddings) but when using lightgbm/catboost, I intend to use it as cat feature and see what happens. "
   ]
  },
  {
   "cell_type": "markdown",
   "metadata": {},
   "source": [
    "## asin\n",
    "\n",
    "Here we could build user features based on the products they buy, for example: most common category or min/max/mean/median price.\n",
    "\n",
    "Also, same comment as before applies"
   ]
  },
  {
   "cell_type": "markdown",
   "metadata": {},
   "source": [
    "## Style"
   ]
  },
  {
   "cell_type": "code",
   "execution_count": 58,
   "metadata": {},
   "outputs": [
    {
     "data": {
      "text/plain": [
       "147245     {'Color:': None, 'Format:': ' DVD', 'Shape:': ...\n",
       "6702324    {'Color:': None, 'Format:': ' DVD', 'Shape:': ...\n",
       "7874385    {'Color:': None, 'Format:': ' VHS Tape', 'Shap...\n",
       "5166640    {'Color:': None, 'Format:': ' DVD', 'Shape:': ...\n",
       "3676816    {'Color:': None, 'Format:': ' Amazon Video', '...\n",
       "7207539    {'Color:': None, 'Format:': ' Prime Video', 'S...\n",
       "4412042    {'Color:': None, 'Format:': ' Amazon Video', '...\n",
       "7164917    {'Color:': None, 'Format:': ' DVD', 'Shape:': ...\n",
       "77970      {'Color:': None, 'Format:': ' Blu-ray', 'Shape...\n",
       "2786031    {'Color:': None, 'Format:': ' Amazon Video', '...\n",
       "Name: style, dtype: object"
      ]
     },
     "execution_count": 58,
     "metadata": {},
     "output_type": "execute_result"
    }
   ],
   "source": [
    "reviews_sample['style'].sample(10)"
   ]
  },
  {
   "cell_type": "code",
   "execution_count": 59,
   "metadata": {},
   "outputs": [],
   "source": [
    "def get_keys(x):\n",
    "    try:\n",
    "        return list(x.keys())\n",
    "    except:\n",
    "        return [] "
   ]
  },
  {
   "cell_type": "code",
   "execution_count": 60,
   "metadata": {},
   "outputs": [],
   "source": [
    "style_keys = reviews_sample['style'].apply(lambda x: get_keys(x))"
   ]
  },
  {
   "cell_type": "code",
   "execution_count": 61,
   "metadata": {},
   "outputs": [
    {
     "data": {
      "text/plain": [
       "2150792    [Color:, Format:, Shape:, Size:]\n",
       "2150791    [Color:, Format:, Shape:, Size:]\n",
       "2379327                                  []\n",
       "5358932    [Color:, Format:, Shape:, Size:]\n",
       "4069308    [Color:, Format:, Shape:, Size:]\n",
       "5333904    [Color:, Format:, Shape:, Size:]\n",
       "1385285    [Color:, Format:, Shape:, Size:]\n",
       "3077670    [Color:, Format:, Shape:, Size:]\n",
       "3339470    [Color:, Format:, Shape:, Size:]\n",
       "4968879    [Color:, Format:, Shape:, Size:]\n",
       "Name: style, dtype: object"
      ]
     },
     "execution_count": 61,
     "metadata": {},
     "output_type": "execute_result"
    }
   ],
   "source": [
    "style_keys[:10]"
   ]
  },
  {
   "cell_type": "code",
   "execution_count": 63,
   "metadata": {},
   "outputs": [
    {
     "data": {
      "text/plain": [
       "[('Color:', 2505746),\n",
       " ('Format:', 2505746),\n",
       " ('Shape:', 2505746),\n",
       " ('Size:', 2505746)]"
      ]
     },
     "execution_count": 63,
     "metadata": {},
     "output_type": "execute_result"
    }
   ],
   "source": [
    "Counter([item for sublist in style_keys for item in sublist]).most_common(50)"
   ]
  },
  {
   "cell_type": "markdown",
   "metadata": {},
   "source": [
    "We ignore style"
   ]
  },
  {
   "cell_type": "markdown",
   "metadata": {},
   "source": [
    "## reviewerName\n",
    "\n",
    "we could infer gender using some python package (the same I used for the airbnb dataset)"
   ]
  },
  {
   "cell_type": "markdown",
   "metadata": {},
   "source": [
    "## review Text and Summary\n",
    "\n",
    "we could build a representation of a user based on these, but I am not sure is convenient, since basically, I do not think we would get useful information to build a recommendation system out of that representation, that we would not get from the remaining dataset"
   ]
  }
 ],
 "metadata": {
  "kernelspec": {
   "display_name": "Environment (conda_amazon_eda)",
   "language": "python",
   "name": "conda_amazon_eda"
  },
  "language_info": {
   "codemirror_mode": {
    "name": "ipython",
    "version": 3
   },
   "file_extension": ".py",
   "mimetype": "text/x-python",
   "name": "python",
   "nbconvert_exporter": "python",
   "pygments_lexer": "ipython3",
   "version": "3.8.6"
  }
 },
 "nbformat": 4,
 "nbformat_minor": 4
}
