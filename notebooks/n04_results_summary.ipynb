{
 "cells": [
  {
   "cell_type": "code",
   "execution_count": 2,
   "metadata": {},
   "outputs": [],
   "source": [
    "import pickle\n",
    "from pathlib import Path\n",
    "\n",
    "import matplotlib.pyplot as plt\n",
    "import numpy as np\n",
    "import pandas as pd\n",
    "import seaborn as sns\n",
    "\n",
    "sns.set(color_codes=True)\n",
    "sns.set(context=\"notebook\", font_scale=1.0, font=\"serif\")\n",
    "\n",
    "results_dir = Path(\"../results/\")"
   ]
  },
  {
   "cell_type": "code",
   "execution_count": 27,
   "metadata": {},
   "outputs": [],
   "source": [
    "res_files = results_dir.glob('*')"
   ]
  },
  {
   "cell_type": "code",
   "execution_count": 28,
   "metadata": {},
   "outputs": [
    {
     "data": {
      "text/plain": [
       "<generator object Path.glob at 0x7fae89cb3ba0>"
      ]
     },
     "execution_count": 28,
     "metadata": {},
     "output_type": "execute_result"
    }
   ],
   "source": [
    "res_files"
   ]
  },
  {
   "cell_type": "code",
   "execution_count": 29,
   "metadata": {},
   "outputs": [],
   "source": [
    "results = {}\n",
    "for f in res_files:\n",
    "    experiment = str(f).split('.')[-2].split(\"/\")[-1]\n",
    "    results[experiment] = pickle.load(open(f, 'rb'))"
   ]
  },
  {
   "cell_type": "code",
   "execution_count": 30,
   "metadata": {
    "scrolled": true
   },
   "outputs": [
    {
     "data": {
      "text/plain": [
       "{'knn_item_cf_results_full_3_k_20': {'knn_cf': {'ndgc_knn': 0.01724111455287408,\n",
       "   'rec_knn': 0.03220239401262736,\n",
       "   'hr_knn': 0.05582477224268269},\n",
       "  'most_popular': {'ndgc_mp': 0.009049437980297675,\n",
       "   'rec_mp': 0.02086616875374725,\n",
       "   'hr_mp': 0.047328293596950316}},\n",
       " 'knn_item_cf_results_full_5_k_100': {'knn_cf': {'ndgc_knn': 0.01800519519785412,\n",
       "   'rec_knn': 0.04784181851895651,\n",
       "   'hr_knn': 0.10343086374729991},\n",
       "  'most_popular': {'ndgc_mp': 0.01627913933179732,\n",
       "   'rec_mp': 0.056176102850301765,\n",
       "   'hr_mp': 0.13597217157124022}},\n",
       " 'knn_item_cf_results_full_7_k_50': {'knn_cf': {'ndgc_knn': 0.013177624646092853,\n",
       "   'rec_knn': 0.03180105580607061,\n",
       "   'hr_knn': 0.07655970720912418},\n",
       "  'most_popular': {'ndgc_mp': 0.010725564039931603,\n",
       "   'rec_mp': 0.02960931825570678,\n",
       "   'hr_mp': 0.08851817175929866}},\n",
       " 'knn_item_cf_results_5core_7_k_100': {'knn_cf': {'ndgc_knn': 0.018493460575646586,\n",
       "   'rec_knn': 0.052258188299315486,\n",
       "   'hr_knn': 0.14064221306458852},\n",
       "  'most_popular': {'ndgc_mp': 0.014879788508909026,\n",
       "   'rec_mp': 0.0479720283815175,\n",
       "   'hr_mp': 0.1454975723203721}},\n",
       " 'knn_item_cf_results_full_7_k_20': {'knn_cf': {'ndgc_knn': 0.010570064213749612,\n",
       "   'rec_knn': 0.02160953239949507,\n",
       "   'hr_knn': 0.047961528640735385},\n",
       "  'most_popular': {'ndgc_mp': 0.006812422443667612,\n",
       "   'rec_mp': 0.01354525073647673,\n",
       "   'hr_mp': 0.047110392373819046}},\n",
       " 'knn_item_cf_results_full_7_k_100': {'knn_cf': {'ndgc_knn': 0.015133237511296378,\n",
       "   'rec_knn': 0.04147383260308398,\n",
       "   'hr_knn': 0.10247680653672653},\n",
       "  'most_popular': {'ndgc_mp': 0.01467512058475035,\n",
       "   'rec_mp': 0.04934993663717986,\n",
       "   'hr_mp': 0.13775640480040854}},\n",
       " 'knn_item_cf_results_5core_5_k_50': {'knn_cf': {'ndgc_knn': 0.01868151487840122,\n",
       "   'rec_knn': 0.045120824597725914,\n",
       "   'hr_knn': 0.10179512560528639},\n",
       "  'most_popular': {'ndgc_mp': 0.012253561229109693,\n",
       "   'rec_mp': 0.03451164771499775,\n",
       "   'hr_mp': 0.09152197758099467}},\n",
       " 'knn_item_cf_results_full_5_k_20': {'knn_cf': {'ndgc_knn': 0.013188042763276998,\n",
       "   'rec_knn': 0.025967664717192564,\n",
       "   'hr_knn': 0.0519819339635874},\n",
       "  'most_popular': {'ndgc_mp': 0.008384889241712884,\n",
       "   'rec_mp': 0.019408564172194335,\n",
       "   'hr_mp': 0.0504951328302522}},\n",
       " 'knn_item_cf_results_full_3_k_100': {'knn_cf': {'ndgc_knn': 0.021891857116320447,\n",
       "   'rec_knn': 0.05417652970361047,\n",
       "   'hr_knn': 0.10055243264198488},\n",
       "  'most_popular': {'ndgc_mp': 0.017835531256111203,\n",
       "   'rec_mp': 0.06256856980417218,\n",
       "   'hr_mp': 0.13003165988240614}},\n",
       " 'knn_item_cf_results_full_5_k_50': {'knn_cf': {'ndgc_knn': 0.015885120093256593,\n",
       "   'rec_knn': 0.037084079260221316,\n",
       "   'hr_knn': 0.07832356159003563},\n",
       "  'most_popular': {'ndgc_mp': 0.01198934602946604,\n",
       "   'rec_mp': 0.03423692799011258,\n",
       "   'hr_mp': 0.08701994557746795}},\n",
       " 'knn_item_cf_results_5core_3_k_50': {'knn_cf': {'ndgc_knn': 0.021570144980100847,\n",
       "   'rec_knn': 0.04978516900697142,\n",
       "   'hr_knn': 0.10469610843900307},\n",
       "  'most_popular': {'ndgc_mp': 0.01394708515761916,\n",
       "   'rec_mp': 0.03873711656357588,\n",
       "   'hr_mp': 0.09462177525142107}},\n",
       " 'knn_item_cf_results_5core_5_k_20': {'knn_cf': {'ndgc_knn': 0.014992954963366346,\n",
       "   'rec_knn': 0.029897652268730944,\n",
       "   'hr_knn': 0.06375237432783114},\n",
       "  'most_popular': {'ndgc_mp': 0.007918509110301737,\n",
       "   'rec_mp': 0.016805705249828273,\n",
       "   'hr_mp': 0.04893121806361861}},\n",
       " 'knn_item_cf_results_5core_5_k_100': {'knn_cf': {'ndgc_knn': 0.02174627173075922,\n",
       "   'rec_knn': 0.06034792692957171,\n",
       "   'hr_knn': 0.14026592471708713},\n",
       "  'most_popular': {'ndgc_mp': 0.01663499099905939,\n",
       "   'rec_mp': 0.05665784484998694,\n",
       "   'hr_mp': 0.14371706038149762}},\n",
       " 'knn_item_cf_results_5core_7_k_20': {'knn_cf': {'ndgc_knn': 0.01197922591942117,\n",
       "   'rec_knn': 0.02424754351242103,\n",
       "   'hr_knn': 0.05863152311395814},\n",
       "  'most_popular': {'ndgc_mp': 0.007143605285438013,\n",
       "   'rec_mp': 0.013737614074228958,\n",
       "   'hr_mp': 0.0503896527806112}},\n",
       " 'knn_item_cf_results_5core_3_k_20': {'knn_cf': {'ndgc_knn': 0.0177267202660786,\n",
       "   'rec_knn': 0.03362158713343013,\n",
       "   'hr_knn': 0.06775688675120245},\n",
       "  'most_popular': {'ndgc_mp': 0.009262556576208114,\n",
       "   'rec_mp': 0.01945621795520645,\n",
       "   'hr_mp': 0.05065150852645387}},\n",
       " 'knn_item_cf_results_5core_3_k_100': {'knn_cf': {'ndgc_knn': 0.02460071958429112,\n",
       "   'rec_knn': 0.06510944879937329,\n",
       "   'hr_knn': 0.14083078268473984},\n",
       "  'most_popular': {'ndgc_mp': 0.01865371822683937,\n",
       "   'rec_mp': 0.06288441338534048,\n",
       "   'hr_mp': 0.14632269348491472}},\n",
       " 'knn_item_cf_results_full_3_k_50': {'knn_cf': {'ndgc_knn': 0.019800081124370702,\n",
       "   'rec_knn': 0.04321333120269325,\n",
       "   'hr_knn': 0.07839051495767914},\n",
       "  'most_popular': {'ndgc_mp': 0.013733899687007053,\n",
       "   'rec_mp': 0.04099149138222617,\n",
       "   'hr_mp': 0.08822769270530464}},\n",
       " 'knn_item_cf_results_5core_7_k_50': {'knn_cf': {'ndgc_knn': 0.015520327007167573,\n",
       "   'rec_knn': 0.03803946164986179,\n",
       "   'hr_knn': 0.098984046676731},\n",
       "  'most_popular': {'ndgc_mp': 0.011154527410969072,\n",
       "   'rec_mp': 0.030059308940493176,\n",
       "   'hr_mp': 0.09494471418662533}}}"
      ]
     },
     "execution_count": 30,
     "metadata": {},
     "output_type": "execute_result"
    }
   ],
   "source": [
    "results"
   ]
  },
  {
   "cell_type": "code",
   "execution_count": 101,
   "metadata": {},
   "outputs": [],
   "source": [
    "results_3nn = {k:v for k,v in results.items() if '_3_k_' in k}"
   ]
  },
  {
   "cell_type": "code",
   "execution_count": 102,
   "metadata": {},
   "outputs": [
    {
     "data": {
      "text/plain": [
       "{'knn_item_cf_results_full_3_k_20': {'knn_cf': {'ndgc_knn': 0.01724111455287408,\n",
       "   'rec_knn': 0.03220239401262736,\n",
       "   'hr_knn': 0.05582477224268269},\n",
       "  'most_popular': {'ndgc_mp': 0.009049437980297675,\n",
       "   'rec_mp': 0.02086616875374725,\n",
       "   'hr_mp': 0.047328293596950316}},\n",
       " 'knn_item_cf_results_full_3_k_100': {'knn_cf': {'ndgc_knn': 0.021891857116320447,\n",
       "   'rec_knn': 0.05417652970361047,\n",
       "   'hr_knn': 0.10055243264198488},\n",
       "  'most_popular': {'ndgc_mp': 0.017835531256111203,\n",
       "   'rec_mp': 0.06256856980417218,\n",
       "   'hr_mp': 0.13003165988240614}},\n",
       " 'knn_item_cf_results_5core_3_k_50': {'knn_cf': {'ndgc_knn': 0.021570144980100847,\n",
       "   'rec_knn': 0.04978516900697142,\n",
       "   'hr_knn': 0.10469610843900307},\n",
       "  'most_popular': {'ndgc_mp': 0.01394708515761916,\n",
       "   'rec_mp': 0.03873711656357588,\n",
       "   'hr_mp': 0.09462177525142107}},\n",
       " 'knn_item_cf_results_5core_3_k_20': {'knn_cf': {'ndgc_knn': 0.0177267202660786,\n",
       "   'rec_knn': 0.03362158713343013,\n",
       "   'hr_knn': 0.06775688675120245},\n",
       "  'most_popular': {'ndgc_mp': 0.009262556576208114,\n",
       "   'rec_mp': 0.01945621795520645,\n",
       "   'hr_mp': 0.05065150852645387}},\n",
       " 'knn_item_cf_results_5core_3_k_100': {'knn_cf': {'ndgc_knn': 0.02460071958429112,\n",
       "   'rec_knn': 0.06510944879937329,\n",
       "   'hr_knn': 0.14083078268473984},\n",
       "  'most_popular': {'ndgc_mp': 0.01865371822683937,\n",
       "   'rec_mp': 0.06288441338534048,\n",
       "   'hr_mp': 0.14632269348491472}},\n",
       " 'knn_item_cf_results_full_3_k_50': {'knn_cf': {'ndgc_knn': 0.019800081124370702,\n",
       "   'rec_knn': 0.04321333120269325,\n",
       "   'hr_knn': 0.07839051495767914},\n",
       "  'most_popular': {'ndgc_mp': 0.013733899687007053,\n",
       "   'rec_mp': 0.04099149138222617,\n",
       "   'hr_mp': 0.08822769270530464}}}"
      ]
     },
     "execution_count": 102,
     "metadata": {},
     "output_type": "execute_result"
    }
   ],
   "source": [
    "results_3nn"
   ]
  }
 ],
 "metadata": {
  "kernelspec": {
   "display_name": "Environment (conda_amazon_eda)",
   "language": "python",
   "name": "conda_amazon_eda"
  },
  "language_info": {
   "codemirror_mode": {
    "name": "ipython",
    "version": 3
   },
   "file_extension": ".py",
   "mimetype": "text/x-python",
   "name": "python",
   "nbconvert_exporter": "python",
   "pygments_lexer": "ipython3",
   "version": "3.8.6"
  }
 },
 "nbformat": 4,
 "nbformat_minor": 4
}
