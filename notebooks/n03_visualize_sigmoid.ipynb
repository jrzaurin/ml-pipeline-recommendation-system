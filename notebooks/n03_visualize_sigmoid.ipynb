{
 "cells": [
  {
   "cell_type": "code",
   "execution_count": 1,
   "metadata": {},
   "outputs": [],
   "source": [
    "import os\n",
    "from pathlib import Path\n",
    "\n",
    "import matplotlib.pyplot as plt\n",
    "import numpy as np\n",
    "import pandas as pd\n",
    "\n",
    "pd.options.display.max_columns = 100\n",
    "RAW_DATA_DIR = Path(\"data/raw/amazon\")\n",
    "PROCESSED_DATA_DIR = Path(\"data/processed/amazon\")\n"
   ]
  },
  {
   "cell_type": "code",
   "execution_count": 2,
   "metadata": {},
   "outputs": [],
   "source": [
    "def sigmoid(x, xmid, tau, top):\n",
    "    \"\"\"\n",
    "    Sigmoid with upper limit\n",
    "    \"\"\"\n",
    "    return top / (1.0 + np.exp(-(x - xmid) / tau))\n"
   ]
  },
  {
   "cell_type": "code",
   "execution_count": 3,
   "metadata": {},
   "outputs": [],
   "source": [
    "def plot_adjustment_func(x, params, xmin=None, xmax=None):\n",
    "\n",
    "    if not xmin: xmin = np.min(x)\n",
    "    if not xmax: xmax = np.max(x)\n",
    "    x = np.sort(x)\n",
    "\n",
    "    Z = sigmoid(x, params['xmid'], params['tau'], params['top'])\n",
    "\n",
    "    plt.figure(figsize=(10,5))\n",
    "    plt.plot(x, Z, color='red', lw=1.)\n",
    "    plt.xlim((xmin, xmax))\n",
    "    plt.ylabel(\"views_count\")\n",
    "    plt.ylabel(\"Interest\")\n",
    "    plt.show()"
   ]
  },
  {
   "cell_type": "code",
   "execution_count": 4,
   "metadata": {},
   "outputs": [],
   "source": [
    "df = pd.read_feather(RAW_DATA_DIR / \"Movies_and_TV.f\")\n"
   ]
  },
  {
   "cell_type": "code",
   "execution_count": 5,
   "metadata": {},
   "outputs": [],
   "source": [
    "def _keep_recent_n_years(df, n_years=5):\n",
    "    df[\"reviewDate\"] = pd.to_datetime(df[\"unixReviewTime\"], unit=\"s\")\n",
    "    start_date = df.reviewDate.max() - pd.DateOffset(years=n_years)\n",
    "    df_recent = df[df.reviewDate >= start_date]\n",
    "    df_recent.drop_duplicates([\"reviewerID\", \"asin\"], inplace=True, keep=\"last\")\n",
    "    return df_recent\n"
   ]
  },
  {
   "cell_type": "code",
   "execution_count": 6,
   "metadata": {},
   "outputs": [
    {
     "name": "stderr",
     "output_type": "stream",
     "text": [
      "<ipython-input-5-85a8c14d7145>:5: SettingWithCopyWarning: \n",
      "A value is trying to be set on a copy of a slice from a DataFrame\n",
      "\n",
      "See the caveats in the documentation: https://pandas.pydata.org/pandas-docs/stable/user_guide/indexing.html#returning-a-view-versus-a-copy\n",
      "  df_recent.drop_duplicates([\"reviewerID\", \"asin\"], inplace=True, keep=\"last\")\n",
      "<ipython-input-6-d316cf892cc9>:2: SettingWithCopyWarning: \n",
      "A value is trying to be set on a copy of a slice from a DataFrame\n",
      "\n",
      "See the caveats in the documentation: https://pandas.pydata.org/pandas-docs/stable/user_guide/indexing.html#returning-a-view-versus-a-copy\n",
      "  df_recent.sort_values(\"reviewDate\", inplace=True)\n"
     ]
    }
   ],
   "source": [
    "df_recent = _keep_recent_n_years(df, 5)\n",
    "df_recent.sort_values(\"reviewDate\", inplace=True)\n",
    "\n",
    "train_size = df_recent.shape[0] - round(df_recent.shape[0] * 0.2)\n",
    "train_df = df_recent.iloc[:train_size]\n",
    "  "
   ]
  },
  {
   "cell_type": "code",
   "execution_count": 7,
   "metadata": {},
   "outputs": [
    {
     "name": "stderr",
     "output_type": "stream",
     "text": [
      "<ipython-input-7-743c715cdf6f>:2: SettingWithCopyWarning: \n",
      "A value is trying to be set on a copy of a slice from a DataFrame.\n",
      "Try using .loc[row_indexer,col_indexer] = value instead\n",
      "\n",
      "See the caveats in the documentation: https://pandas.pydata.org/pandas-docs/stable/user_guide/indexing.html#returning-a-view-versus-a-copy\n",
      "  train_df[\"days_to_present\"] = present - train_df[\"reviewDate\"]\n",
      "<ipython-input-7-743c715cdf6f>:3: SettingWithCopyWarning: \n",
      "A value is trying to be set on a copy of a slice from a DataFrame.\n",
      "Try using .loc[row_indexer,col_indexer] = value instead\n",
      "\n",
      "See the caveats in the documentation: https://pandas.pydata.org/pandas-docs/stable/user_guide/indexing.html#returning-a-view-versus-a-copy\n",
      "  train_df['days_to_present_inv'] = (train_df.days_to_present.max() - train_df.days_to_present).dt.days\n"
     ]
    }
   ],
   "source": [
    "present = train_df.reviewDate.max() \n",
    "train_df[\"days_to_present\"] = present - train_df[\"reviewDate\"]\n",
    "train_df['days_to_present_inv'] = (train_df.days_to_present.max() - train_df.days_to_present).dt.days\n"
   ]
  },
  {
   "cell_type": "code",
   "execution_count": 8,
   "metadata": {},
   "outputs": [
    {
     "data": {
      "text/html": [
       "<div>\n",
       "<style scoped>\n",
       "    .dataframe tbody tr th:only-of-type {\n",
       "        vertical-align: middle;\n",
       "    }\n",
       "\n",
       "    .dataframe tbody tr th {\n",
       "        vertical-align: top;\n",
       "    }\n",
       "\n",
       "    .dataframe thead th {\n",
       "        text-align: right;\n",
       "    }\n",
       "</style>\n",
       "<table border=\"1\" class=\"dataframe\">\n",
       "  <thead>\n",
       "    <tr style=\"text-align: right;\">\n",
       "      <th></th>\n",
       "      <th>overall</th>\n",
       "      <th>verified</th>\n",
       "      <th>reviewTime</th>\n",
       "      <th>reviewerID</th>\n",
       "      <th>asin</th>\n",
       "      <th>style</th>\n",
       "      <th>reviewerName</th>\n",
       "      <th>reviewText</th>\n",
       "      <th>summary</th>\n",
       "      <th>unixReviewTime</th>\n",
       "      <th>vote</th>\n",
       "      <th>image</th>\n",
       "      <th>reviewDate</th>\n",
       "      <th>days_to_present</th>\n",
       "      <th>days_to_present_inv</th>\n",
       "    </tr>\n",
       "  </thead>\n",
       "  <tbody>\n",
       "    <tr>\n",
       "      <th>3352119</th>\n",
       "      <td>5</td>\n",
       "      <td>True</td>\n",
       "      <td>10 3, 2013</td>\n",
       "      <td>AEK8ZRCXA5185</td>\n",
       "      <td>B0013LRKSA</td>\n",
       "      <td>{'Color:': None, 'Format:': ' DVD', 'Shape:': ...</td>\n",
       "      <td>Theresa Linton</td>\n",
       "      <td>So many lessons in this film.  For not only a ...</td>\n",
       "      <td>Just a great film</td>\n",
       "      <td>1380758400</td>\n",
       "      <td>None</td>\n",
       "      <td>None</td>\n",
       "      <td>2013-10-03</td>\n",
       "      <td>1120 days</td>\n",
       "      <td>0</td>\n",
       "    </tr>\n",
       "    <tr>\n",
       "      <th>4407143</th>\n",
       "      <td>5</td>\n",
       "      <td>True</td>\n",
       "      <td>10 3, 2013</td>\n",
       "      <td>A2EWNYME532PMF</td>\n",
       "      <td>B004LWZW6A</td>\n",
       "      <td>{'Color:': None, 'Format:': ' Amazon Video', '...</td>\n",
       "      <td>Christopher M. Rumley</td>\n",
       "      <td>Kids loved this movie (ages 6 and 8)..this was...</td>\n",
       "      <td>Great family movie</td>\n",
       "      <td>1380758400</td>\n",
       "      <td>None</td>\n",
       "      <td>None</td>\n",
       "      <td>2013-10-03</td>\n",
       "      <td>1120 days</td>\n",
       "      <td>0</td>\n",
       "    </tr>\n",
       "    <tr>\n",
       "      <th>2768814</th>\n",
       "      <td>5</td>\n",
       "      <td>True</td>\n",
       "      <td>10 3, 2013</td>\n",
       "      <td>A31304RVFOGKV1</td>\n",
       "      <td>B000NHG7C0</td>\n",
       "      <td>{'Color:': None, 'Format:': ' Amazon Video', '...</td>\n",
       "      <td>C. Mielzarek</td>\n",
       "      <td>this has always been one of my all time favori...</td>\n",
       "      <td>new take on an all time favorite</td>\n",
       "      <td>1380758400</td>\n",
       "      <td>None</td>\n",
       "      <td>None</td>\n",
       "      <td>2013-10-03</td>\n",
       "      <td>1120 days</td>\n",
       "      <td>0</td>\n",
       "    </tr>\n",
       "    <tr>\n",
       "      <th>4405974</th>\n",
       "      <td>5</td>\n",
       "      <td>True</td>\n",
       "      <td>10 3, 2013</td>\n",
       "      <td>A2XR5HA7DM30MP</td>\n",
       "      <td>B004LVOX7K</td>\n",
       "      <td>{'Color:': None, 'Format:': ' DVD', 'Shape:': ...</td>\n",
       "      <td>Maggs</td>\n",
       "      <td>I am so glad I bought the series. There is a l...</td>\n",
       "      <td>LOVE THIS!</td>\n",
       "      <td>1380758400</td>\n",
       "      <td>None</td>\n",
       "      <td>None</td>\n",
       "      <td>2013-10-03</td>\n",
       "      <td>1120 days</td>\n",
       "      <td>0</td>\n",
       "    </tr>\n",
       "    <tr>\n",
       "      <th>5737998</th>\n",
       "      <td>5</td>\n",
       "      <td>True</td>\n",
       "      <td>10 3, 2013</td>\n",
       "      <td>A2GH77WAYK07ER</td>\n",
       "      <td>B00CSW07UQ</td>\n",
       "      <td>{'Color:': None, 'Format:': ' DVD', 'Shape:': ...</td>\n",
       "      <td>Pa</td>\n",
       "      <td>I don't know anyone personally, who surfs, but...</td>\n",
       "      <td>Amazing, fearless althletes.</td>\n",
       "      <td>1380758400</td>\n",
       "      <td>None</td>\n",
       "      <td>None</td>\n",
       "      <td>2013-10-03</td>\n",
       "      <td>1120 days</td>\n",
       "      <td>0</td>\n",
       "    </tr>\n",
       "  </tbody>\n",
       "</table>\n",
       "</div>"
      ],
      "text/plain": [
       "         overall  verified  reviewTime      reviewerID        asin  \\\n",
       "3352119        5      True  10 3, 2013   AEK8ZRCXA5185  B0013LRKSA   \n",
       "4407143        5      True  10 3, 2013  A2EWNYME532PMF  B004LWZW6A   \n",
       "2768814        5      True  10 3, 2013  A31304RVFOGKV1  B000NHG7C0   \n",
       "4405974        5      True  10 3, 2013  A2XR5HA7DM30MP  B004LVOX7K   \n",
       "5737998        5      True  10 3, 2013  A2GH77WAYK07ER  B00CSW07UQ   \n",
       "\n",
       "                                                     style  \\\n",
       "3352119  {'Color:': None, 'Format:': ' DVD', 'Shape:': ...   \n",
       "4407143  {'Color:': None, 'Format:': ' Amazon Video', '...   \n",
       "2768814  {'Color:': None, 'Format:': ' Amazon Video', '...   \n",
       "4405974  {'Color:': None, 'Format:': ' DVD', 'Shape:': ...   \n",
       "5737998  {'Color:': None, 'Format:': ' DVD', 'Shape:': ...   \n",
       "\n",
       "                  reviewerName  \\\n",
       "3352119         Theresa Linton   \n",
       "4407143  Christopher M. Rumley   \n",
       "2768814           C. Mielzarek   \n",
       "4405974                  Maggs   \n",
       "5737998                     Pa   \n",
       "\n",
       "                                                reviewText  \\\n",
       "3352119  So many lessons in this film.  For not only a ...   \n",
       "4407143  Kids loved this movie (ages 6 and 8)..this was...   \n",
       "2768814  this has always been one of my all time favori...   \n",
       "4405974  I am so glad I bought the series. There is a l...   \n",
       "5737998  I don't know anyone personally, who surfs, but...   \n",
       "\n",
       "                                  summary  unixReviewTime  vote image  \\\n",
       "3352119                 Just a great film      1380758400  None  None   \n",
       "4407143                Great family movie      1380758400  None  None   \n",
       "2768814  new take on an all time favorite      1380758400  None  None   \n",
       "4405974                        LOVE THIS!      1380758400  None  None   \n",
       "5737998      Amazing, fearless althletes.      1380758400  None  None   \n",
       "\n",
       "        reviewDate days_to_present  days_to_present_inv  \n",
       "3352119 2013-10-03       1120 days                    0  \n",
       "4407143 2013-10-03       1120 days                    0  \n",
       "2768814 2013-10-03       1120 days                    0  \n",
       "4405974 2013-10-03       1120 days                    0  \n",
       "5737998 2013-10-03       1120 days                    0  "
      ]
     },
     "execution_count": 8,
     "metadata": {},
     "output_type": "execute_result"
    }
   ],
   "source": [
    "train_df.head()"
   ]
  },
  {
   "cell_type": "code",
   "execution_count": 9,
   "metadata": {},
   "outputs": [
    {
     "data": {
      "text/plain": [
       "Timestamp('2016-10-27 00:00:00')"
      ]
     },
     "execution_count": 9,
     "metadata": {},
     "output_type": "execute_result"
    }
   ],
   "source": [
    "present"
   ]
  },
  {
   "cell_type": "code",
   "execution_count": 10,
   "metadata": {},
   "outputs": [
    {
     "data": {
      "text/plain": [
       "Timestamp('2013-10-03 00:00:00')"
      ]
     },
     "execution_count": 10,
     "metadata": {},
     "output_type": "execute_result"
    }
   ],
   "source": [
    "train_df.reviewDate.min()"
   ]
  },
  {
   "cell_type": "code",
   "execution_count": 11,
   "metadata": {},
   "outputs": [
    {
     "data": {
      "text/plain": [
       "Timestamp('2016-10-27 00:00:00')"
      ]
     },
     "execution_count": 11,
     "metadata": {},
     "output_type": "execute_result"
    }
   ],
   "source": [
    "train_df.reviewDate.max()"
   ]
  },
  {
   "cell_type": "code",
   "execution_count": 12,
   "metadata": {},
   "outputs": [
    {
     "data": {
      "image/png": "[encoded data removed]",
      "text/plain": [
       "<Figure size 720x360 with 1 Axes>"
      ]
     },
     "metadata": {
      "needs_background": "light"
     },
     "output_type": "display_data"
    }
   ],
   "source": [
    "params = {\"xmid\":365, \"tau\":80, \"top\":1}\n",
    "plot_adjustment_func(train_df.days_to_present_inv.values, params)"
   ]
  },
  {
   "cell_type": "code",
   "execution_count": 13,
   "metadata": {},
   "outputs": [],
   "source": [
    "Z = np.round(sigmoid(train_df.days_to_present_inv.values, params['xmid'], params['tau'], params['top']), 3)"
   ]
  },
  {
   "cell_type": "code",
   "execution_count": 14,
   "metadata": {},
   "outputs": [
    {
     "data": {
      "text/plain": [
       "array([0.01, 0.01, 0.01, ..., 1.  , 1.  , 1.  ])"
      ]
     },
     "execution_count": 14,
     "metadata": {},
     "output_type": "execute_result"
    }
   ],
   "source": [
    "Z"
   ]
  },
  {
   "cell_type": "code",
   "execution_count": 15,
   "metadata": {},
   "outputs": [
    {
     "data": {
      "text/plain": [
       "2998954"
      ]
     },
     "execution_count": 15,
     "metadata": {},
     "output_type": "execute_result"
    }
   ],
   "source": [
    "np.where(Z > 0.99)[0][0]"
   ]
  },
  {
   "cell_type": "code",
   "execution_count": 16,
   "metadata": {},
   "outputs": [
    {
     "data": {
      "text/plain": [
       "Timedelta('383 days 00:00:00')"
      ]
     },
     "execution_count": 16,
     "metadata": {},
     "output_type": "execute_result"
    }
   ],
   "source": [
    "train_df.iloc[2998954].days_to_present"
   ]
  }
 ],
 "metadata": {
  "kernelspec": {
   "display_name": "Environment (conda_amazon_eda)",
   "language": "python",
   "name": "conda_amazon_eda"
  },
  "language_info": {
   "codemirror_mode": {
    "name": "ipython",
    "version": 3
   },
   "file_extension": ".py",
   "mimetype": "text/x-python",
   "name": "python",
   "nbconvert_exporter": "python",
   "pygments_lexer": "ipython3",
   "version": "3.8.6"
  }
 },
 "nbformat": 4,
 "nbformat_minor": 4
}
