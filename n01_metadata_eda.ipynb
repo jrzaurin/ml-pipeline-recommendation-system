{
 "cells": [
  {
   "cell_type": "code",
   "execution_count": 31,
   "metadata": {},
   "outputs": [],
   "source": [
    "from pathlib import Path\n",
    "\n",
    "from tqdm import tqdm\n",
    "import numpy as np\n",
    "import pandas as pd"
   ]
  },
  {
   "cell_type": "code",
   "execution_count": 25,
   "metadata": {},
   "outputs": [],
   "source": [
    "RAW_DATA_DIR = Path(\"data/raw/amazon\")"
   ]
  },
  {
   "cell_type": "code",
   "execution_count": 3,
   "metadata": {},
   "outputs": [],
   "source": [
    "meta = pd.read_pickle(RAW_DATA_DIR / \"meta_Movies_and_TV.p\")"
   ]
  },
  {
   "cell_type": "code",
   "execution_count": 5,
   "metadata": {},
   "outputs": [
    {
     "data": {
      "text/html": [
       "<div>\n",
       "<style scoped>\n",
       "    .dataframe tbody tr th:only-of-type {\n",
       "        vertical-align: middle;\n",
       "    }\n",
       "\n",
       "    .dataframe tbody tr th {\n",
       "        vertical-align: top;\n",
       "    }\n",
       "\n",
       "    .dataframe thead th {\n",
       "        text-align: right;\n",
       "    }\n",
       "</style>\n",
       "<table border=\"1\" class=\"dataframe\">\n",
       "  <thead>\n",
       "    <tr style=\"text-align: right;\">\n",
       "      <th></th>\n",
       "      <th>category</th>\n",
       "      <th>tech1</th>\n",
       "      <th>description</th>\n",
       "      <th>fit</th>\n",
       "      <th>title</th>\n",
       "      <th>also_buy</th>\n",
       "      <th>image</th>\n",
       "      <th>tech2</th>\n",
       "      <th>brand</th>\n",
       "      <th>feature</th>\n",
       "      <th>rank</th>\n",
       "      <th>also_view</th>\n",
       "      <th>main_cat</th>\n",
       "      <th>similar_item</th>\n",
       "      <th>date</th>\n",
       "      <th>price</th>\n",
       "      <th>asin</th>\n",
       "      <th>details</th>\n",
       "    </tr>\n",
       "  </thead>\n",
       "  <tbody>\n",
       "    <tr>\n",
       "      <th>0</th>\n",
       "      <td>[Movies &amp; TV, Movies]</td>\n",
       "      <td></td>\n",
       "      <td>[]</td>\n",
       "      <td></td>\n",
       "      <td>Understanding Seizures and Epilepsy</td>\n",
       "      <td>[]</td>\n",
       "      <td>[]</td>\n",
       "      <td></td>\n",
       "      <td></td>\n",
       "      <td>[]</td>\n",
       "      <td>886,503 in Movies &amp; TV (</td>\n",
       "      <td>[]</td>\n",
       "      <td>Movies &amp; TV</td>\n",
       "      <td></td>\n",
       "      <td></td>\n",
       "      <td></td>\n",
       "      <td>0000695009</td>\n",
       "      <td>NaN</td>\n",
       "    </tr>\n",
       "    <tr>\n",
       "      <th>1</th>\n",
       "      <td>[Movies &amp; TV, Movies]</td>\n",
       "      <td></td>\n",
       "      <td>[]</td>\n",
       "      <td></td>\n",
       "      <td>Spirit Led&amp;mdash;Moving By Grace In The Holy S...</td>\n",
       "      <td>[]</td>\n",
       "      <td>[https://images-na.ssl-images-amazon.com/image...</td>\n",
       "      <td></td>\n",
       "      <td></td>\n",
       "      <td>[]</td>\n",
       "      <td>342,688 in Movies &amp; TV (</td>\n",
       "      <td>[]</td>\n",
       "      <td>Movies &amp; TV</td>\n",
       "      <td></td>\n",
       "      <td></td>\n",
       "      <td></td>\n",
       "      <td>0000791156</td>\n",
       "      <td>NaN</td>\n",
       "    </tr>\n",
       "    <tr>\n",
       "      <th>2</th>\n",
       "      <td>[Movies &amp; TV, Movies]</td>\n",
       "      <td></td>\n",
       "      <td>[Disc 1: Flour Power (Scones; Shortcakes; Sout...</td>\n",
       "      <td></td>\n",
       "      <td>My Fair Pastry (Good Eats Vol. 9)</td>\n",
       "      <td>[]</td>\n",
       "      <td>[https://images-na.ssl-images-amazon.com/image...</td>\n",
       "      <td></td>\n",
       "      <td>Alton Brown</td>\n",
       "      <td>[]</td>\n",
       "      <td>370,026 in Movies &amp; TV (</td>\n",
       "      <td>[]</td>\n",
       "      <td>Movies &amp; TV</td>\n",
       "      <td></td>\n",
       "      <td></td>\n",
       "      <td></td>\n",
       "      <td>0000143529</td>\n",
       "      <td>NaN</td>\n",
       "    </tr>\n",
       "    <tr>\n",
       "      <th>3</th>\n",
       "      <td>[Movies &amp; TV, Movies]</td>\n",
       "      <td></td>\n",
       "      <td>[Barefoot Contessa Volume 2: On these three di...</td>\n",
       "      <td></td>\n",
       "      <td>Barefoot Contessa (with Ina Garten), Entertain...</td>\n",
       "      <td>[B002I5GNW4, B005WXPVMM, B009UY3W8O, B00N27ID1...</td>\n",
       "      <td>[]</td>\n",
       "      <td></td>\n",
       "      <td>Ina Garten</td>\n",
       "      <td>[]</td>\n",
       "      <td>342,914 in Movies &amp; TV (</td>\n",
       "      <td>[B002I5GNW4, 0804187045, B009UY3W8O, 060960219...</td>\n",
       "      <td>Movies &amp; TV</td>\n",
       "      <td></td>\n",
       "      <td></td>\n",
       "      <td>$74.95</td>\n",
       "      <td>0000143588</td>\n",
       "      <td>NaN</td>\n",
       "    </tr>\n",
       "    <tr>\n",
       "      <th>4</th>\n",
       "      <td>[Movies &amp; TV, Movies]</td>\n",
       "      <td></td>\n",
       "      <td>[Rise and Swine (Good Eats Vol. 7) includes bo...</td>\n",
       "      <td></td>\n",
       "      <td>Rise and Swine (Good Eats Vol. 7)</td>\n",
       "      <td>[B000P1CKES, B000NR4CRM]</td>\n",
       "      <td>[https://images-na.ssl-images-amazon.com/image...</td>\n",
       "      <td></td>\n",
       "      <td>Alton Brown</td>\n",
       "      <td>[]</td>\n",
       "      <td>351,684 in Movies &amp; TV (</td>\n",
       "      <td>[B0015SVNXY]</td>\n",
       "      <td>Movies &amp; TV</td>\n",
       "      <td></td>\n",
       "      <td></td>\n",
       "      <td></td>\n",
       "      <td>0000143502</td>\n",
       "      <td>NaN</td>\n",
       "    </tr>\n",
       "  </tbody>\n",
       "</table>\n",
       "</div>"
      ],
      "text/plain": [
       "                category tech1  \\\n",
       "0  [Movies & TV, Movies]         \n",
       "1  [Movies & TV, Movies]         \n",
       "2  [Movies & TV, Movies]         \n",
       "3  [Movies & TV, Movies]         \n",
       "4  [Movies & TV, Movies]         \n",
       "\n",
       "                                         description fit  \\\n",
       "0                                                 []       \n",
       "1                                                 []       \n",
       "2  [Disc 1: Flour Power (Scones; Shortcakes; Sout...       \n",
       "3  [Barefoot Contessa Volume 2: On these three di...       \n",
       "4  [Rise and Swine (Good Eats Vol. 7) includes bo...       \n",
       "\n",
       "                                               title  \\\n",
       "0                Understanding Seizures and Epilepsy   \n",
       "1  Spirit Led&mdash;Moving By Grace In The Holy S...   \n",
       "2                  My Fair Pastry (Good Eats Vol. 9)   \n",
       "3  Barefoot Contessa (with Ina Garten), Entertain...   \n",
       "4                  Rise and Swine (Good Eats Vol. 7)   \n",
       "\n",
       "                                            also_buy  \\\n",
       "0                                                 []   \n",
       "1                                                 []   \n",
       "2                                                 []   \n",
       "3  [B002I5GNW4, B005WXPVMM, B009UY3W8O, B00N27ID1...   \n",
       "4                           [B000P1CKES, B000NR4CRM]   \n",
       "\n",
       "                                               image tech2        brand  \\\n",
       "0                                                 []                      \n",
       "1  [https://images-na.ssl-images-amazon.com/image...                      \n",
       "2  [https://images-na.ssl-images-amazon.com/image...        Alton Brown   \n",
       "3                                                 []         Ina Garten   \n",
       "4  [https://images-na.ssl-images-amazon.com/image...        Alton Brown   \n",
       "\n",
       "  feature                      rank  \\\n",
       "0      []  886,503 in Movies & TV (   \n",
       "1      []  342,688 in Movies & TV (   \n",
       "2      []  370,026 in Movies & TV (   \n",
       "3      []  342,914 in Movies & TV (   \n",
       "4      []  351,684 in Movies & TV (   \n",
       "\n",
       "                                           also_view     main_cat  \\\n",
       "0                                                 []  Movies & TV   \n",
       "1                                                 []  Movies & TV   \n",
       "2                                                 []  Movies & TV   \n",
       "3  [B002I5GNW4, 0804187045, B009UY3W8O, 060960219...  Movies & TV   \n",
       "4                                       [B0015SVNXY]  Movies & TV   \n",
       "\n",
       "  similar_item date   price        asin details  \n",
       "0                            0000695009     NaN  \n",
       "1                            0000791156     NaN  \n",
       "2                            0000143529     NaN  \n",
       "3                    $74.95  0000143588     NaN  \n",
       "4                            0000143502     NaN  "
      ]
     },
     "execution_count": 5,
     "metadata": {},
     "output_type": "execute_result"
    }
   ],
   "source": [
    "meta.head()"
   ]
  },
  {
   "cell_type": "code",
   "execution_count": 6,
   "metadata": {},
   "outputs": [
    {
     "data": {
      "text/plain": [
       "Index(['category', 'tech1', 'description', 'fit', 'title', 'also_buy', 'image',\n",
       "       'tech2', 'brand', 'feature', 'rank', 'also_view', 'main_cat',\n",
       "       'similar_item', 'date', 'price', 'asin', 'details'],\n",
       "      dtype='object')"
      ]
     },
     "execution_count": 6,
     "metadata": {},
     "output_type": "execute_result"
    }
   ],
   "source": [
    "meta.columns"
   ]
  },
  {
   "cell_type": "code",
   "execution_count": 15,
   "metadata": {},
   "outputs": [
    {
     "data": {
      "text/plain": [
       "category        object\n",
       "tech1           object\n",
       "description     object\n",
       "fit             object\n",
       "title           object\n",
       "also_buy        object\n",
       "image           object\n",
       "tech2           object\n",
       "brand           object\n",
       "feature         object\n",
       "rank            object\n",
       "also_view       object\n",
       "main_cat        object\n",
       "similar_item    object\n",
       "date            object\n",
       "price           object\n",
       "asin            object\n",
       "details         object\n",
       "dtype: object"
      ]
     },
     "execution_count": 15,
     "metadata": {},
     "output_type": "execute_result"
    }
   ],
   "source": [
    "meta.dtypes"
   ]
  },
  {
   "cell_type": "code",
   "execution_count": 8,
   "metadata": {},
   "outputs": [
    {
     "data": {
      "text/plain": [
       "(203766, 18)"
      ]
     },
     "execution_count": 8,
     "metadata": {},
     "output_type": "execute_result"
    }
   ],
   "source": [
    "meta.shape"
   ]
  },
  {
   "cell_type": "code",
   "execution_count": 19,
   "metadata": {},
   "outputs": [],
   "source": [
    "meta['category'] = meta.category.apply(lambda x: np.nan if x == '' else x)"
   ]
  },
  {
   "cell_type": "code",
   "execution_count": 20,
   "metadata": {},
   "outputs": [
    {
     "data": {
      "text/plain": [
       "0"
      ]
     },
     "execution_count": 20,
     "metadata": {},
     "output_type": "execute_result"
    }
   ],
   "source": [
    "meta.category.isna().sum()"
   ]
  },
  {
   "cell_type": "code",
   "execution_count": 45,
   "metadata": {},
   "outputs": [],
   "source": [
    "def process_category(category):\n",
    "    df_list = []\n",
    "    for i, cat in enumerate(tqdm(category)):        \n",
    "        tmp_df = pd.DataFrame(cat).transpose()\n",
    "        tmp_df['index'] = i\n",
    "        df_list.append(tmp_df)\n",
    "    return pd.concat(df_list)    "
   ]
  },
  {
   "cell_type": "code",
   "execution_count": 46,
   "metadata": {},
   "outputs": [
    {
     "name": "stderr",
     "output_type": "stream",
     "text": [
      "100%|██████████| 203766/203766 [02:30<00:00, 1351.76it/s]\n"
     ]
    }
   ],
   "source": [
    "categories = process_category(meta.category)"
   ]
  },
  {
   "cell_type": "code",
   "execution_count": 47,
   "metadata": {},
   "outputs": [
    {
     "data": {
      "text/plain": [
       "(203541, 8)"
      ]
     },
     "execution_count": 47,
     "metadata": {},
     "output_type": "execute_result"
    }
   ],
   "source": [
    "categories.shape"
   ]
  },
  {
   "cell_type": "code",
   "execution_count": 48,
   "metadata": {},
   "outputs": [
    {
     "data": {
      "text/html": [
       "<div>\n",
       "<style scoped>\n",
       "    .dataframe tbody tr th:only-of-type {\n",
       "        vertical-align: middle;\n",
       "    }\n",
       "\n",
       "    .dataframe tbody tr th {\n",
       "        vertical-align: top;\n",
       "    }\n",
       "\n",
       "    .dataframe thead th {\n",
       "        text-align: right;\n",
       "    }\n",
       "</style>\n",
       "<table border=\"1\" class=\"dataframe\">\n",
       "  <thead>\n",
       "    <tr style=\"text-align: right;\">\n",
       "      <th></th>\n",
       "      <th>0</th>\n",
       "      <th>1</th>\n",
       "      <th>index</th>\n",
       "      <th>2</th>\n",
       "      <th>3</th>\n",
       "      <th>4</th>\n",
       "      <th>5</th>\n",
       "      <th>6</th>\n",
       "    </tr>\n",
       "  </thead>\n",
       "  <tbody>\n",
       "    <tr>\n",
       "      <th>0</th>\n",
       "      <td>Movies &amp; TV</td>\n",
       "      <td>Movies</td>\n",
       "      <td>0</td>\n",
       "      <td>NaN</td>\n",
       "      <td>NaN</td>\n",
       "      <td>NaN</td>\n",
       "      <td>NaN</td>\n",
       "      <td>NaN</td>\n",
       "    </tr>\n",
       "    <tr>\n",
       "      <th>0</th>\n",
       "      <td>Movies &amp; TV</td>\n",
       "      <td>Movies</td>\n",
       "      <td>1</td>\n",
       "      <td>NaN</td>\n",
       "      <td>NaN</td>\n",
       "      <td>NaN</td>\n",
       "      <td>NaN</td>\n",
       "      <td>NaN</td>\n",
       "    </tr>\n",
       "    <tr>\n",
       "      <th>0</th>\n",
       "      <td>Movies &amp; TV</td>\n",
       "      <td>Movies</td>\n",
       "      <td>2</td>\n",
       "      <td>NaN</td>\n",
       "      <td>NaN</td>\n",
       "      <td>NaN</td>\n",
       "      <td>NaN</td>\n",
       "      <td>NaN</td>\n",
       "    </tr>\n",
       "    <tr>\n",
       "      <th>0</th>\n",
       "      <td>Movies &amp; TV</td>\n",
       "      <td>Movies</td>\n",
       "      <td>3</td>\n",
       "      <td>NaN</td>\n",
       "      <td>NaN</td>\n",
       "      <td>NaN</td>\n",
       "      <td>NaN</td>\n",
       "      <td>NaN</td>\n",
       "    </tr>\n",
       "    <tr>\n",
       "      <th>0</th>\n",
       "      <td>Movies &amp; TV</td>\n",
       "      <td>Movies</td>\n",
       "      <td>4</td>\n",
       "      <td>NaN</td>\n",
       "      <td>NaN</td>\n",
       "      <td>NaN</td>\n",
       "      <td>NaN</td>\n",
       "      <td>NaN</td>\n",
       "    </tr>\n",
       "  </tbody>\n",
       "</table>\n",
       "</div>"
      ],
      "text/plain": [
       "             0       1  index    2    3    4    5    6\n",
       "0  Movies & TV  Movies      0  NaN  NaN  NaN  NaN  NaN\n",
       "0  Movies & TV  Movies      1  NaN  NaN  NaN  NaN  NaN\n",
       "0  Movies & TV  Movies      2  NaN  NaN  NaN  NaN  NaN\n",
       "0  Movies & TV  Movies      3  NaN  NaN  NaN  NaN  NaN\n",
       "0  Movies & TV  Movies      4  NaN  NaN  NaN  NaN  NaN"
      ]
     },
     "execution_count": 48,
     "metadata": {},
     "output_type": "execute_result"
    }
   ],
   "source": [
    "categories.head()"
   ]
  },
  {
   "cell_type": "code",
   "execution_count": 49,
   "metadata": {},
   "outputs": [
    {
     "data": {
      "text/plain": [
       "(203766,)"
      ]
     },
     "execution_count": 49,
     "metadata": {},
     "output_type": "execute_result"
    }
   ],
   "source": [
    "meta.category.shape"
   ]
  },
  {
   "cell_type": "code",
   "execution_count": 51,
   "metadata": {},
   "outputs": [
    {
     "data": {
      "text/plain": [
       "203541"
      ]
     },
     "execution_count": 51,
     "metadata": {},
     "output_type": "execute_result"
    }
   ],
   "source": [
    "categories['index'].nunique()"
   ]
  },
  {
   "cell_type": "code",
   "execution_count": 52,
   "metadata": {},
   "outputs": [
    {
     "data": {
      "text/plain": [
       "203765"
      ]
     },
     "execution_count": 52,
     "metadata": {},
     "output_type": "execute_result"
    }
   ],
   "source": [
    "categories['index'].max()"
   ]
  },
  {
   "cell_type": "code",
   "execution_count": 55,
   "metadata": {},
   "outputs": [
    {
     "data": {
      "text/plain": [
       "array([  1782,   3119,   3214,   3245,   3359,   3767,   4059,   4189,\n",
       "         4235,   4336,   4908,   4985,   6381,   6706,   7603,   7673,\n",
       "         7710,   8008,   8427,   8587,   8696,   8738,   8878,   8898,\n",
       "         9023,   9314,   9601,   9682,   9699,   9700,   9829,   9914,\n",
       "         9918,  10491,  10498,  10512,  11615,  11755,  11763,  11802,\n",
       "        12218,  13683,  13864,  14905,  15216,  15435,  15879,  15884,\n",
       "        16023,  16274,  16379,  16729,  17103,  17128,  17303,  17636,\n",
       "        17655,  20661,  21182,  21194,  21469,  21548,  21569,  22042,\n",
       "        22530,  22532,  22585,  22586,  24578,  24919,  25305,  25997,\n",
       "        28113,  28116,  29870,  30102,  30891,  32899,  32901,  33683,\n",
       "        35078,  36097,  37938,  38061,  41104,  41378,  41380,  41383,\n",
       "        41384,  41526,  42783,  42820,  43969,  44457,  44459,  44512,\n",
       "        44513,  46505,  46846,  47232,  47924,  50040,  50043,  51797,\n",
       "        52029,  52818,  54826,  54828,  55610,  57005,  58024,  59865,\n",
       "        59988,  63031,  63305,  63307,  63310,  63311,  63453,  64710,\n",
       "        64747,  65600,  65608,  65614,  65892,  67048,  67193,  67222,\n",
       "        69289,  69779,  69780,  72666,  72986,  73670,  74904,  74907,\n",
       "        75121,  78302,  79583,  80435,  80816,  83280,  83890,  84204,\n",
       "        84255,  84886,  88561,  89565,  89694,  90362,  90780,  92331,\n",
       "        92336,  92493,  93511,  93852,  94901,  94903,  94909,  97324,\n",
       "        97580,  97700,  97703,  98346,  99216,  99218, 100669, 103089,\n",
       "       103091, 103597, 105448, 106830, 111775, 115179, 115186, 116161,\n",
       "       116163, 117215, 117595, 117597, 117599, 117611, 117909, 119378,\n",
       "       120048, 120721, 121060, 121289, 122270, 122271, 122272, 122299,\n",
       "       123181, 123489, 124438, 124585, 125010, 125095, 125428, 126599,\n",
       "       127641, 128915, 128926, 130966, 131907, 131934, 132812, 137319,\n",
       "       148100, 148105, 148302, 149104, 151569, 153121, 157741, 159408,\n",
       "       159663, 162007, 166594, 172476, 172478, 176704, 190946, 190947,\n",
       "       203751])"
      ]
     },
     "execution_count": 55,
     "metadata": {},
     "output_type": "execute_result"
    }
   ],
   "source": [
    "np.setdiff1d(np.arange(meta.category.shape[0]), categories['index'].values)"
   ]
  },
  {
   "cell_type": "code",
   "execution_count": 57,
   "metadata": {},
   "outputs": [
    {
     "data": {
      "text/plain": [
       "[]"
      ]
     },
     "execution_count": 57,
     "metadata": {},
     "output_type": "execute_result"
    }
   ],
   "source": [
    "meta.category[105448]"
   ]
  },
  {
   "cell_type": "code",
   "execution_count": 58,
   "metadata": {},
   "outputs": [
    {
     "data": {
      "text/plain": [
       "(93021, 18)"
      ]
     },
     "execution_count": 58,
     "metadata": {},
     "output_type": "execute_result"
    }
   ],
   "source": [
    "meta[meta.price == ''].shape"
   ]
  },
  {
   "cell_type": "code",
   "execution_count": null,
   "metadata": {},
   "outputs": [],
   "source": []
  }
 ],
 "metadata": {
  "kernelspec": {
   "display_name": "Environment (conda_amazon_eda)",
   "language": "python",
   "name": "conda_amazon_eda"
  },
  "language_info": {
   "codemirror_mode": {
    "name": "ipython",
    "version": 3
   },
   "file_extension": ".py",
   "mimetype": "text/x-python",
   "name": "python",
   "nbconvert_exporter": "python",
   "pygments_lexer": "ipython3",
   "version": "3.8.6"
  }
 },
 "nbformat": 4,
 "nbformat_minor": 4
}
