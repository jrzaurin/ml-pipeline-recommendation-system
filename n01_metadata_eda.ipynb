{
 "cells": [
  {
   "cell_type": "markdown",
   "metadata": {},
   "source": [
    "Simple and quick exploration to decide what to do with each column"
   ]
  },
  {
   "cell_type": "code",
   "execution_count": 1,
   "metadata": {},
   "outputs": [],
   "source": [
    "from pathlib import Path\n",
    "\n",
    "from tqdm import tqdm\n",
    "from collections import Counter\n",
    "import numpy as np\n",
    "import pandas as pd"
   ]
  },
  {
   "cell_type": "code",
   "execution_count": 2,
   "metadata": {},
   "outputs": [],
   "source": [
    "RAW_DATA_DIR = Path(\"data/raw/amazon\")"
   ]
  },
  {
   "cell_type": "code",
   "execution_count": 3,
   "metadata": {},
   "outputs": [],
   "source": [
    "meta = pd.read_pickle(RAW_DATA_DIR / \"meta_Movies_and_TV.p\")"
   ]
  },
  {
   "cell_type": "code",
   "execution_count": 4,
   "metadata": {},
   "outputs": [
    {
     "data": {
      "text/html": [
       "<div>\n",
       "<style scoped>\n",
       "    .dataframe tbody tr th:only-of-type {\n",
       "        vertical-align: middle;\n",
       "    }\n",
       "\n",
       "    .dataframe tbody tr th {\n",
       "        vertical-align: top;\n",
       "    }\n",
       "\n",
       "    .dataframe thead th {\n",
       "        text-align: right;\n",
       "    }\n",
       "</style>\n",
       "<table border=\"1\" class=\"dataframe\">\n",
       "  <thead>\n",
       "    <tr style=\"text-align: right;\">\n",
       "      <th></th>\n",
       "      <th>category</th>\n",
       "      <th>tech1</th>\n",
       "      <th>description</th>\n",
       "      <th>fit</th>\n",
       "      <th>title</th>\n",
       "      <th>also_buy</th>\n",
       "      <th>image</th>\n",
       "      <th>tech2</th>\n",
       "      <th>brand</th>\n",
       "      <th>feature</th>\n",
       "      <th>rank</th>\n",
       "      <th>also_view</th>\n",
       "      <th>main_cat</th>\n",
       "      <th>similar_item</th>\n",
       "      <th>date</th>\n",
       "      <th>price</th>\n",
       "      <th>asin</th>\n",
       "      <th>details</th>\n",
       "    </tr>\n",
       "  </thead>\n",
       "  <tbody>\n",
       "    <tr>\n",
       "      <th>0</th>\n",
       "      <td>[Movies &amp; TV, Movies]</td>\n",
       "      <td></td>\n",
       "      <td>[]</td>\n",
       "      <td></td>\n",
       "      <td>Understanding Seizures and Epilepsy</td>\n",
       "      <td>[]</td>\n",
       "      <td>[]</td>\n",
       "      <td></td>\n",
       "      <td></td>\n",
       "      <td>[]</td>\n",
       "      <td>886,503 in Movies &amp; TV (</td>\n",
       "      <td>[]</td>\n",
       "      <td>Movies &amp; TV</td>\n",
       "      <td></td>\n",
       "      <td></td>\n",
       "      <td></td>\n",
       "      <td>0000695009</td>\n",
       "      <td>NaN</td>\n",
       "    </tr>\n",
       "    <tr>\n",
       "      <th>1</th>\n",
       "      <td>[Movies &amp; TV, Movies]</td>\n",
       "      <td></td>\n",
       "      <td>[]</td>\n",
       "      <td></td>\n",
       "      <td>Spirit Led&amp;mdash;Moving By Grace In The Holy S...</td>\n",
       "      <td>[]</td>\n",
       "      <td>[https://images-na.ssl-images-amazon.com/image...</td>\n",
       "      <td></td>\n",
       "      <td></td>\n",
       "      <td>[]</td>\n",
       "      <td>342,688 in Movies &amp; TV (</td>\n",
       "      <td>[]</td>\n",
       "      <td>Movies &amp; TV</td>\n",
       "      <td></td>\n",
       "      <td></td>\n",
       "      <td></td>\n",
       "      <td>0000791156</td>\n",
       "      <td>NaN</td>\n",
       "    </tr>\n",
       "    <tr>\n",
       "      <th>2</th>\n",
       "      <td>[Movies &amp; TV, Movies]</td>\n",
       "      <td></td>\n",
       "      <td>[Disc 1: Flour Power (Scones; Shortcakes; Sout...</td>\n",
       "      <td></td>\n",
       "      <td>My Fair Pastry (Good Eats Vol. 9)</td>\n",
       "      <td>[]</td>\n",
       "      <td>[https://images-na.ssl-images-amazon.com/image...</td>\n",
       "      <td></td>\n",
       "      <td>Alton Brown</td>\n",
       "      <td>[]</td>\n",
       "      <td>370,026 in Movies &amp; TV (</td>\n",
       "      <td>[]</td>\n",
       "      <td>Movies &amp; TV</td>\n",
       "      <td></td>\n",
       "      <td></td>\n",
       "      <td></td>\n",
       "      <td>0000143529</td>\n",
       "      <td>NaN</td>\n",
       "    </tr>\n",
       "    <tr>\n",
       "      <th>3</th>\n",
       "      <td>[Movies &amp; TV, Movies]</td>\n",
       "      <td></td>\n",
       "      <td>[Barefoot Contessa Volume 2: On these three di...</td>\n",
       "      <td></td>\n",
       "      <td>Barefoot Contessa (with Ina Garten), Entertain...</td>\n",
       "      <td>[B002I5GNW4, B005WXPVMM, B009UY3W8O, B00N27ID1...</td>\n",
       "      <td>[]</td>\n",
       "      <td></td>\n",
       "      <td>Ina Garten</td>\n",
       "      <td>[]</td>\n",
       "      <td>342,914 in Movies &amp; TV (</td>\n",
       "      <td>[B002I5GNW4, 0804187045, B009UY3W8O, 060960219...</td>\n",
       "      <td>Movies &amp; TV</td>\n",
       "      <td></td>\n",
       "      <td></td>\n",
       "      <td>$74.95</td>\n",
       "      <td>0000143588</td>\n",
       "      <td>NaN</td>\n",
       "    </tr>\n",
       "    <tr>\n",
       "      <th>4</th>\n",
       "      <td>[Movies &amp; TV, Movies]</td>\n",
       "      <td></td>\n",
       "      <td>[Rise and Swine (Good Eats Vol. 7) includes bo...</td>\n",
       "      <td></td>\n",
       "      <td>Rise and Swine (Good Eats Vol. 7)</td>\n",
       "      <td>[B000P1CKES, B000NR4CRM]</td>\n",
       "      <td>[https://images-na.ssl-images-amazon.com/image...</td>\n",
       "      <td></td>\n",
       "      <td>Alton Brown</td>\n",
       "      <td>[]</td>\n",
       "      <td>351,684 in Movies &amp; TV (</td>\n",
       "      <td>[B0015SVNXY]</td>\n",
       "      <td>Movies &amp; TV</td>\n",
       "      <td></td>\n",
       "      <td></td>\n",
       "      <td></td>\n",
       "      <td>0000143502</td>\n",
       "      <td>NaN</td>\n",
       "    </tr>\n",
       "  </tbody>\n",
       "</table>\n",
       "</div>"
      ],
      "text/plain": [
       "                category tech1  \\\n",
       "0  [Movies & TV, Movies]         \n",
       "1  [Movies & TV, Movies]         \n",
       "2  [Movies & TV, Movies]         \n",
       "3  [Movies & TV, Movies]         \n",
       "4  [Movies & TV, Movies]         \n",
       "\n",
       "                                         description fit  \\\n",
       "0                                                 []       \n",
       "1                                                 []       \n",
       "2  [Disc 1: Flour Power (Scones; Shortcakes; Sout...       \n",
       "3  [Barefoot Contessa Volume 2: On these three di...       \n",
       "4  [Rise and Swine (Good Eats Vol. 7) includes bo...       \n",
       "\n",
       "                                               title  \\\n",
       "0                Understanding Seizures and Epilepsy   \n",
       "1  Spirit Led&mdash;Moving By Grace In The Holy S...   \n",
       "2                  My Fair Pastry (Good Eats Vol. 9)   \n",
       "3  Barefoot Contessa (with Ina Garten), Entertain...   \n",
       "4                  Rise and Swine (Good Eats Vol. 7)   \n",
       "\n",
       "                                            also_buy  \\\n",
       "0                                                 []   \n",
       "1                                                 []   \n",
       "2                                                 []   \n",
       "3  [B002I5GNW4, B005WXPVMM, B009UY3W8O, B00N27ID1...   \n",
       "4                           [B000P1CKES, B000NR4CRM]   \n",
       "\n",
       "                                               image tech2        brand  \\\n",
       "0                                                 []                      \n",
       "1  [https://images-na.ssl-images-amazon.com/image...                      \n",
       "2  [https://images-na.ssl-images-amazon.com/image...        Alton Brown   \n",
       "3                                                 []         Ina Garten   \n",
       "4  [https://images-na.ssl-images-amazon.com/image...        Alton Brown   \n",
       "\n",
       "  feature                      rank  \\\n",
       "0      []  886,503 in Movies & TV (   \n",
       "1      []  342,688 in Movies & TV (   \n",
       "2      []  370,026 in Movies & TV (   \n",
       "3      []  342,914 in Movies & TV (   \n",
       "4      []  351,684 in Movies & TV (   \n",
       "\n",
       "                                           also_view     main_cat  \\\n",
       "0                                                 []  Movies & TV   \n",
       "1                                                 []  Movies & TV   \n",
       "2                                                 []  Movies & TV   \n",
       "3  [B002I5GNW4, 0804187045, B009UY3W8O, 060960219...  Movies & TV   \n",
       "4                                       [B0015SVNXY]  Movies & TV   \n",
       "\n",
       "  similar_item date   price        asin details  \n",
       "0                            0000695009     NaN  \n",
       "1                            0000791156     NaN  \n",
       "2                            0000143529     NaN  \n",
       "3                    $74.95  0000143588     NaN  \n",
       "4                            0000143502     NaN  "
      ]
     },
     "execution_count": 4,
     "metadata": {},
     "output_type": "execute_result"
    }
   ],
   "source": [
    "meta.head()"
   ]
  },
  {
   "cell_type": "code",
   "execution_count": 5,
   "metadata": {},
   "outputs": [
    {
     "data": {
      "text/plain": [
       "Index(['category', 'tech1', 'description', 'fit', 'title', 'also_buy', 'image',\n",
       "       'tech2', 'brand', 'feature', 'rank', 'also_view', 'main_cat',\n",
       "       'similar_item', 'date', 'price', 'asin', 'details'],\n",
       "      dtype='object')"
      ]
     },
     "execution_count": 5,
     "metadata": {},
     "output_type": "execute_result"
    }
   ],
   "source": [
    "meta.columns"
   ]
  },
  {
   "cell_type": "code",
   "execution_count": 6,
   "metadata": {},
   "outputs": [
    {
     "data": {
      "text/plain": [
       "category        object\n",
       "tech1           object\n",
       "description     object\n",
       "fit             object\n",
       "title           object\n",
       "also_buy        object\n",
       "image           object\n",
       "tech2           object\n",
       "brand           object\n",
       "feature         object\n",
       "rank            object\n",
       "also_view       object\n",
       "main_cat        object\n",
       "similar_item    object\n",
       "date            object\n",
       "price           object\n",
       "asin            object\n",
       "details         object\n",
       "dtype: object"
      ]
     },
     "execution_count": 6,
     "metadata": {},
     "output_type": "execute_result"
    }
   ],
   "source": [
    "meta.dtypes"
   ]
  },
  {
   "cell_type": "code",
   "execution_count": 7,
   "metadata": {},
   "outputs": [
    {
     "data": {
      "text/plain": [
       "(203766, 18)"
      ]
     },
     "execution_count": 7,
     "metadata": {},
     "output_type": "execute_result"
    }
   ],
   "source": [
    "meta.shape"
   ]
  },
  {
   "cell_type": "markdown",
   "metadata": {},
   "source": [
    "## Category"
   ]
  },
  {
   "cell_type": "code",
   "execution_count": 9,
   "metadata": {},
   "outputs": [],
   "source": [
    "meta['category'] = meta.category.apply(lambda x: np.nan if x == [] else x)"
   ]
  },
  {
   "cell_type": "code",
   "execution_count": 10,
   "metadata": {},
   "outputs": [
    {
     "data": {
      "text/plain": [
       "225"
      ]
     },
     "execution_count": 10,
     "metadata": {},
     "output_type": "execute_result"
    }
   ],
   "source": [
    "meta.category.isna().sum()"
   ]
  },
  {
   "cell_type": "markdown",
   "metadata": {},
   "source": [
    "Wnen implementing the feature engineering, items with no category (225) will be left out/ignored"
   ]
  },
  {
   "cell_type": "code",
   "execution_count": 16,
   "metadata": {},
   "outputs": [],
   "source": [
    "categories = meta.category.dropna().reset_index(drop=True)"
   ]
  },
  {
   "cell_type": "code",
   "execution_count": 17,
   "metadata": {},
   "outputs": [],
   "source": [
    "def process_category(category):\n",
    "    df_list = []\n",
    "    for i, cat in enumerate(tqdm(category)):        \n",
    "        tmp_df = pd.DataFrame(cat).transpose()\n",
    "        df_list.append(tmp_df)\n",
    "    return pd.concat(df_list).reset_index(drop=True)    "
   ]
  },
  {
   "cell_type": "code",
   "execution_count": 18,
   "metadata": {},
   "outputs": [
    {
     "name": "stderr",
     "output_type": "stream",
     "text": [
      "100%|██████████| 203541/203541 [01:30<00:00, 2247.17it/s]\n"
     ]
    }
   ],
   "source": [
    "categories_df = process_category(categories)"
   ]
  },
  {
   "cell_type": "code",
   "execution_count": 22,
   "metadata": {},
   "outputs": [],
   "source": [
    "categories_df.columns = ['cat' + str(i) for i in range(categories_df.shape[1])]"
   ]
  },
  {
   "cell_type": "code",
   "execution_count": 23,
   "metadata": {},
   "outputs": [
    {
     "data": {
      "text/html": [
       "<div>\n",
       "<style scoped>\n",
       "    .dataframe tbody tr th:only-of-type {\n",
       "        vertical-align: middle;\n",
       "    }\n",
       "\n",
       "    .dataframe tbody tr th {\n",
       "        vertical-align: top;\n",
       "    }\n",
       "\n",
       "    .dataframe thead th {\n",
       "        text-align: right;\n",
       "    }\n",
       "</style>\n",
       "<table border=\"1\" class=\"dataframe\">\n",
       "  <thead>\n",
       "    <tr style=\"text-align: right;\">\n",
       "      <th></th>\n",
       "      <th>cat0</th>\n",
       "      <th>cat1</th>\n",
       "      <th>cat2</th>\n",
       "      <th>cat3</th>\n",
       "      <th>cat4</th>\n",
       "      <th>cat5</th>\n",
       "      <th>cat6</th>\n",
       "    </tr>\n",
       "  </thead>\n",
       "  <tbody>\n",
       "    <tr>\n",
       "      <th>0</th>\n",
       "      <td>Movies &amp; TV</td>\n",
       "      <td>Movies</td>\n",
       "      <td>NaN</td>\n",
       "      <td>NaN</td>\n",
       "      <td>NaN</td>\n",
       "      <td>NaN</td>\n",
       "      <td>NaN</td>\n",
       "    </tr>\n",
       "    <tr>\n",
       "      <th>1</th>\n",
       "      <td>Movies &amp; TV</td>\n",
       "      <td>Movies</td>\n",
       "      <td>NaN</td>\n",
       "      <td>NaN</td>\n",
       "      <td>NaN</td>\n",
       "      <td>NaN</td>\n",
       "      <td>NaN</td>\n",
       "    </tr>\n",
       "    <tr>\n",
       "      <th>2</th>\n",
       "      <td>Movies &amp; TV</td>\n",
       "      <td>Movies</td>\n",
       "      <td>NaN</td>\n",
       "      <td>NaN</td>\n",
       "      <td>NaN</td>\n",
       "      <td>NaN</td>\n",
       "      <td>NaN</td>\n",
       "    </tr>\n",
       "    <tr>\n",
       "      <th>3</th>\n",
       "      <td>Movies &amp; TV</td>\n",
       "      <td>Movies</td>\n",
       "      <td>NaN</td>\n",
       "      <td>NaN</td>\n",
       "      <td>NaN</td>\n",
       "      <td>NaN</td>\n",
       "      <td>NaN</td>\n",
       "    </tr>\n",
       "    <tr>\n",
       "      <th>4</th>\n",
       "      <td>Movies &amp; TV</td>\n",
       "      <td>Movies</td>\n",
       "      <td>NaN</td>\n",
       "      <td>NaN</td>\n",
       "      <td>NaN</td>\n",
       "      <td>NaN</td>\n",
       "      <td>NaN</td>\n",
       "    </tr>\n",
       "  </tbody>\n",
       "</table>\n",
       "</div>"
      ],
      "text/plain": [
       "          cat0    cat1 cat2 cat3 cat4 cat5 cat6\n",
       "0  Movies & TV  Movies  NaN  NaN  NaN  NaN  NaN\n",
       "1  Movies & TV  Movies  NaN  NaN  NaN  NaN  NaN\n",
       "2  Movies & TV  Movies  NaN  NaN  NaN  NaN  NaN\n",
       "3  Movies & TV  Movies  NaN  NaN  NaN  NaN  NaN\n",
       "4  Movies & TV  Movies  NaN  NaN  NaN  NaN  NaN"
      ]
     },
     "execution_count": 23,
     "metadata": {},
     "output_type": "execute_result"
    }
   ],
   "source": [
    "categories_df.head()"
   ]
  },
  {
   "cell_type": "code",
   "execution_count": 28,
   "metadata": {},
   "outputs": [
    {
     "data": {
      "text/plain": [
       "(1, array(['Movies & TV'], dtype=object))"
      ]
     },
     "execution_count": 28,
     "metadata": {},
     "output_type": "execute_result"
    }
   ],
   "source": [
    "categories_df.cat0.nunique(), categories_df.cat0.unique()"
   ]
  },
  {
   "cell_type": "code",
   "execution_count": 30,
   "metadata": {},
   "outputs": [
    {
     "data": {
      "text/plain": [
       "Genre for Featured Categories    81901\n",
       "Movies                           30834\n",
       "Studio Specials                  20674\n",
       "Independently Distributed        15565\n",
       "Science Fiction & Fantasy         7741\n",
       "Boxed Sets                        6957\n",
       "Musicals & Performing Arts        6342\n",
       "Blu-ray                           4758\n",
       "TV                                3181\n",
       "Art House & International         3174\n",
       "Name: cat1, dtype: int64"
      ]
     },
     "execution_count": 30,
     "metadata": {},
     "output_type": "execute_result"
    }
   ],
   "source": [
    "categories_df.cat1.value_counts().head(10)"
   ]
  },
  {
   "cell_type": "code",
   "execution_count": 32,
   "metadata": {},
   "outputs": [
    {
     "data": {
      "text/plain": [
       "Documentary                            15670\n",
       "Drama                                  14532\n",
       "Action & Adventure                     13283\n",
       "Comedy                                 11107\n",
       "Special Interests                       9702\n",
       "Kids & Family                           9249\n",
       "Science Fiction                         5900\n",
       "Exercise & Fitness                      5846\n",
       "Sports                                  5253\n",
       "Warner Home Video                       4976\n",
       "Sony Pictures Home Entertainment        4949\n",
       "Movies                                  3951\n",
       "Horror                                  3914\n",
       "Music Videos & Concerts                 3673\n",
       "20th Century Fox Home Entertainment     3649\n",
       "Lionsgate Home Entertainment            3134\n",
       "Anime & Manga                           2832\n",
       "Classical                               2824\n",
       "Fantasy                                 2340\n",
       "Musicals                                2198\n",
       "Name: cat2, dtype: int64"
      ]
     },
     "execution_count": 32,
     "metadata": {},
     "output_type": "execute_result"
    }
   ],
   "source": [
    "categories_df.cat2.value_counts().head(20)"
   ]
  },
  {
   "cell_type": "code",
   "execution_count": 33,
   "metadata": {
    "scrolled": false
   },
   "outputs": [
    {
     "data": {
      "text/plain": [
       "All Titles                      5268\n",
       "All Sony Pictures Titles        4849\n",
       "Animation                       4063\n",
       "All Lionsgate Titles            2811\n",
       "All Fox Titles                  1649\n",
       "All Universal Studios Titles    1610\n",
       "All MGM Titles                  1470\n",
       "Fox TV                           760\n",
       "Action                           740\n",
       "United Kingdom                   413\n",
       "Classics                         376\n",
       "German                           356\n",
       "Comedy                           321\n",
       "Warner Video Bargains            302\n",
       "Japanese                         301\n",
       "France                           281\n",
       "Top Sellers                      238\n",
       "French                           218\n",
       "The Tragedies                    198\n",
       "Musicals                         191\n",
       "Name: cat3, dtype: int64"
      ]
     },
     "execution_count": 33,
     "metadata": {},
     "output_type": "execute_result"
    }
   ],
   "source": [
    "categories_df.cat3.value_counts().head(20)"
   ]
  },
  {
   "cell_type": "code",
   "execution_count": 34,
   "metadata": {},
   "outputs": [
    {
     "name": "stdout",
     "output_type": "stream",
     "text": [
      "0\n",
      "0\n",
      "39590\n",
      "172927\n",
      "200388\n",
      "203538\n",
      "203540\n"
     ]
    }
   ],
   "source": [
    "for c in categories_df.columns:\n",
    "    print(categories_df[c].isna().sum())"
   ]
  },
  {
   "cell_type": "markdown",
   "metadata": {},
   "source": [
    "For column `categories` we will use what I refer here as `Cat2`"
   ]
  },
  {
   "cell_type": "markdown",
   "metadata": {},
   "source": [
    "## tech1 and tech2"
   ]
  },
  {
   "cell_type": "code",
   "execution_count": 35,
   "metadata": {},
   "outputs": [
    {
     "data": {
      "text/plain": [
       "203760"
      ]
     },
     "execution_count": 35,
     "metadata": {},
     "output_type": "execute_result"
    }
   ],
   "source": [
    "(meta.tech1 == '').sum()"
   ]
  },
  {
   "cell_type": "code",
   "execution_count": 36,
   "metadata": {},
   "outputs": [
    {
     "data": {
      "text/plain": [
       "203766"
      ]
     },
     "execution_count": 36,
     "metadata": {},
     "output_type": "execute_result"
    }
   ],
   "source": [
    "(meta.tech2 == '').sum()"
   ]
  },
  {
   "cell_type": "code",
   "execution_count": 37,
   "metadata": {},
   "outputs": [
    {
     "data": {
      "text/plain": [
       "(203766, 18)"
      ]
     },
     "execution_count": 37,
     "metadata": {},
     "output_type": "execute_result"
    }
   ],
   "source": [
    "meta.shape"
   ]
  },
  {
   "cell_type": "markdown",
   "metadata": {},
   "source": [
    "`tech1` and `tech2`: ignore"
   ]
  },
  {
   "cell_type": "markdown",
   "metadata": {},
   "source": [
    "## description"
   ]
  },
  {
   "cell_type": "code",
   "execution_count": 38,
   "metadata": {},
   "outputs": [],
   "source": [
    "meta['description'] = meta.description.apply(lambda x: None if x == [] else x)"
   ]
  },
  {
   "cell_type": "code",
   "execution_count": 39,
   "metadata": {},
   "outputs": [
    {
     "data": {
      "text/plain": [
       "28991"
      ]
     },
     "execution_count": 39,
     "metadata": {},
     "output_type": "execute_result"
    }
   ],
   "source": [
    "meta.description.isna().sum()"
   ]
  },
  {
   "cell_type": "code",
   "execution_count": 40,
   "metadata": {},
   "outputs": [
    {
     "data": {
      "text/plain": [
       "174775"
      ]
     },
     "execution_count": 40,
     "metadata": {},
     "output_type": "execute_result"
    }
   ],
   "source": [
    "meta.description.count()"
   ]
  },
  {
   "cell_type": "code",
   "execution_count": 41,
   "metadata": {},
   "outputs": [
    {
     "data": {
      "text/plain": [
       "126097    [This mythical tale of a young queen, Alphise,...\n",
       "22747     [Hard to find out of print music film directed...\n",
       "158236    [4 Movie Marathon: James Western Collection in...\n",
       "153688    [Spain released, PAL/Region 2 DVD: it WILL NOT...\n",
       "151302    [Arjun Bhagwat is a Goan ex-cop who earns his ...\n",
       "84777     [\"Duck Season\" takes you into one particular S...\n",
       "44357     [Steadily, the Magic Knights defeat their enem...\n",
       "113020                                  [Baby IQ - Animals]\n",
       "8761                                                   None\n",
       "60887                                                  None\n",
       "Name: description, dtype: object"
      ]
     },
     "execution_count": 41,
     "metadata": {},
     "output_type": "execute_result"
    }
   ],
   "source": [
    "meta.description.sample(10)"
   ]
  },
  {
   "cell_type": "markdown",
   "metadata": {},
   "source": [
    "description allows for some processing. At the time of writing I would go for\n",
    "\n",
    "* simple tf-idf (or even tf) + lsa\n",
    "* tf-idf weighted-mean with word vectors\n",
    "* some form of document or sentence encoding (gensim's doc2vec or UKPLab sentence encoder)"
   ]
  },
  {
   "cell_type": "markdown",
   "metadata": {},
   "source": [
    "## title"
   ]
  },
  {
   "cell_type": "code",
   "execution_count": 33,
   "metadata": {},
   "outputs": [],
   "source": [
    "meta['title'] = meta.title.apply(lambda x: None if x == '' else x)"
   ]
  },
  {
   "cell_type": "code",
   "execution_count": 42,
   "metadata": {},
   "outputs": [
    {
     "data": {
      "text/plain": [
       "203766"
      ]
     },
     "execution_count": 42,
     "metadata": {},
     "output_type": "execute_result"
    }
   ],
   "source": [
    "meta.title.count()"
   ]
  },
  {
   "cell_type": "code",
   "execution_count": 43,
   "metadata": {},
   "outputs": [
    {
     "data": {
      "text/plain": [
       "165545    40th AFI Life Achievement Award - Shirley MacL...\n",
       "28098                                           Songcatcher\n",
       "179755    The Pitching Academy's Baseball 4 Disc Series:...\n",
       "63305                    Homework Basketball: Ball Handling\n",
       "100778                                   Hideout in the Sun\n",
       "6691                               Samson &amp; Delilah VHS\n",
       "58504      The Collector Car Restoration Home Video Library\n",
       "29962            Tae-Bo Focus Series - Abs &amp; Glutes VHS\n",
       "51993     Growing Up Well - Squiggles, Dots and Lines: A...\n",
       "129972                                  My Bloody Roommates\n",
       "Name: title, dtype: object"
      ]
     },
     "execution_count": 43,
     "metadata": {},
     "output_type": "execute_result"
    }
   ],
   "source": [
    "meta.title.sample(10)"
   ]
  },
  {
   "cell_type": "markdown",
   "metadata": {},
   "source": [
    "My thoughts are similar to those of `description`, but I am not sure one can add much here"
   ]
  },
  {
   "cell_type": "markdown",
   "metadata": {},
   "source": [
    "## Brand"
   ]
  },
  {
   "cell_type": "code",
   "execution_count": 44,
   "metadata": {},
   "outputs": [
    {
     "data": {
      "text/plain": [
       "65524"
      ]
     },
     "execution_count": 44,
     "metadata": {},
     "output_type": "execute_result"
    }
   ],
   "source": [
    "(meta.brand == '').sum()"
   ]
  },
  {
   "cell_type": "code",
   "execution_count": 39,
   "metadata": {},
   "outputs": [
    {
     "data": {
      "text/plain": [
       "                       65382\n",
       "Various                 3178\n",
       ".                       1041\n",
       "n/a                      536\n",
       "\\n                       434\n",
       "-                        427\n",
       "*                        388\n",
       "Learn more               358\n",
       "None                     272\n",
       "Sinister Cinema          265\n",
       "John Wayne               233\n",
       "none                     158\n",
       "William Shatner          130\n",
       "na                       124\n",
       "Roy Rogers               122\n",
       "Jackie Chan              120\n",
       "LeVar Burton             118\n",
       "Artist Not Provided      116\n",
       "VARIOUS                  113\n",
       "various                  111\n",
       "Name: brand, dtype: int64"
      ]
     },
     "execution_count": 39,
     "metadata": {},
     "output_type": "execute_result"
    }
   ],
   "source": [
    "meta.brand.value_counts().head(20)"
   ]
  },
  {
   "cell_type": "markdown",
   "metadata": {},
   "source": [
    "Although there are a good number of non nulls, there is not much one can do here, as the occurrence per brand seems to be very small and seems to be information captured in title and description "
   ]
  },
  {
   "cell_type": "markdown",
   "metadata": {},
   "source": [
    "## feature and date"
   ]
  },
  {
   "cell_type": "code",
   "execution_count": 45,
   "metadata": {},
   "outputs": [],
   "source": [
    "meta['feature'] = meta.feature.apply(lambda x: None if x == [] else x)"
   ]
  },
  {
   "cell_type": "code",
   "execution_count": 46,
   "metadata": {},
   "outputs": [
    {
     "data": {
      "text/plain": [
       "203594"
      ]
     },
     "execution_count": 46,
     "metadata": {},
     "output_type": "execute_result"
    }
   ],
   "source": [
    "meta.feature.isna().sum()"
   ]
  },
  {
   "cell_type": "code",
   "execution_count": 48,
   "metadata": {},
   "outputs": [
    {
     "data": {
      "text/plain": [
       "203728"
      ]
     },
     "execution_count": 48,
     "metadata": {},
     "output_type": "execute_result"
    }
   ],
   "source": [
    "(meta.date == '').sum()"
   ]
  },
  {
   "cell_type": "markdown",
   "metadata": {},
   "source": [
    "`feature` and `date` are mostly `nan`"
   ]
  },
  {
   "cell_type": "markdown",
   "metadata": {},
   "source": [
    "## Price"
   ]
  },
  {
   "cell_type": "code",
   "execution_count": 49,
   "metadata": {},
   "outputs": [
    {
     "data": {
      "text/plain": [
       "(110745, 18)"
      ]
     },
     "execution_count": 49,
     "metadata": {},
     "output_type": "execute_result"
    }
   ],
   "source": [
    "meta[meta.price != ''].shape"
   ]
  },
  {
   "cell_type": "code",
   "execution_count": 50,
   "metadata": {},
   "outputs": [
    {
     "data": {
      "text/plain": [
       "133409    $24.94\n",
       "189075    $13.07\n",
       "46830      $9.99\n",
       "44679     $15.68\n",
       "157591    $24.99\n",
       "157058    $19.95\n",
       "145268    $10.11\n",
       "69184     $45.00\n",
       "41727     $17.99\n",
       "101807     $3.69\n",
       "Name: price, dtype: object"
      ]
     },
     "execution_count": 50,
     "metadata": {},
     "output_type": "execute_result"
    }
   ],
   "source": [
    "meta[meta.price != ''].sample(10).price"
   ]
  },
  {
   "cell_type": "markdown",
   "metadata": {},
   "source": [
    "We can use price, we need to remove dollar sign"
   ]
  },
  {
   "cell_type": "markdown",
   "metadata": {},
   "source": [
    "## details"
   ]
  },
  {
   "cell_type": "code",
   "execution_count": 51,
   "metadata": {},
   "outputs": [
    {
     "data": {
      "text/plain": [
       "8374"
      ]
     },
     "execution_count": 51,
     "metadata": {},
     "output_type": "execute_result"
    }
   ],
   "source": [
    "meta.details.isna().sum()"
   ]
  },
  {
   "cell_type": "markdown",
   "metadata": {},
   "source": [
    "Almost no `NaN`"
   ]
  },
  {
   "cell_type": "code",
   "execution_count": 52,
   "metadata": {},
   "outputs": [
    {
     "data": {
      "text/plain": [
       "43647                              {'ASIN: ': 'B00000ICAN'}\n",
       "192145     {'Language:': 'English', 'ASIN: ': 'B00T4H4EBG'}\n",
       "53478      {'Language:': 'English', 'ASIN: ': 'B00006HB3P'}\n",
       "47817     {'Language:': 'English', 'Subtitles:': 'Englis...\n",
       "97634                              {'ASIN: ': 'B000QB4K3Q'}\n",
       "34673     {'Language:': 'English, Japanese', 'ASIN: ': '...\n",
       "111191                             {'ASIN: ': 'B0015ZN5QK'}\n",
       "61536      {'Language:': 'English', 'ASIN: ': 'B0001O3YPI'}\n",
       "74863      {'Language:': 'English', 'ASIN: ': 'B000BBOFEK'}\n",
       "61054      {'Language:': 'English', 'ASIN: ': 'B0001I2BYO'}\n",
       "178113                             {'ASIN: ': 'B00FZ3UMLE'}\n",
       "12102                              {'ASIN: ': '6303945228'}\n",
       "46130     {'Language:': 'German (Stereo)', 'ASIN: ': 'B0...\n",
       "107030    {'Language:': 'English (Dolby Digital 2.0)', '...\n",
       "50668      {'Language:': 'English', 'ASIN: ': 'B00005R5CI'}\n",
       "182907    {'Language:': 'English (Dolby Digital 2.0)', '...\n",
       "37606      {'Language:': 'English', 'ASIN: ': 'B0000YHJ8C'}\n",
       "124251     {'Language:': 'English', 'ASIN: ': 'B001O2ZVZM'}\n",
       "88031      {'Language:': 'English', 'ASIN: ': 'B000J0SPSA'}\n",
       "12505     {'Language:': 'Japanese', 'Subtitles:': 'Engli...\n",
       "Name: details, dtype: object"
      ]
     },
     "execution_count": 52,
     "metadata": {},
     "output_type": "execute_result"
    }
   ],
   "source": [
    "meta.details.sample(20)"
   ]
  },
  {
   "cell_type": "code",
   "execution_count": 53,
   "metadata": {},
   "outputs": [],
   "source": [
    "def get_length(x):\n",
    "    try:\n",
    "        return len(x)\n",
    "    except:\n",
    "        return 0\n",
    "\n",
    "def get_keys(x):\n",
    "    try:\n",
    "        return list(x.keys())\n",
    "    except:\n",
    "        return [] "
   ]
  },
  {
   "cell_type": "code",
   "execution_count": 54,
   "metadata": {},
   "outputs": [],
   "source": [
    "details_lengths  = meta.details.apply(lambda x: get_length(x))"
   ]
  },
  {
   "cell_type": "code",
   "execution_count": 56,
   "metadata": {},
   "outputs": [
    {
     "data": {
      "text/plain": [
       "(array([185875]),)"
      ]
     },
     "execution_count": 56,
     "metadata": {},
     "output_type": "execute_result"
    }
   ],
   "source": [
    "np.where(details_lengths == max(details_lengths))"
   ]
  },
  {
   "cell_type": "code",
   "execution_count": 57,
   "metadata": {},
   "outputs": [
    {
     "data": {
      "text/plain": [
       "{'Series:': 'DVD',\n",
       " 'Publisher:': 'Multnomah Books (2007)',\n",
       " 'Language:': 'English',\n",
       " 'ISBN-10:': '1590527690',\n",
       " 'ISBN-13:': '978-1590527696',\n",
       " 'ASIN:': 'B00L6VV76I',\n",
       " '\\n    Package Dimensions: \\n    ': '7.5 x 5.3 x 0.6 inches',\n",
       " 'Shipping Weight:': '4.8 ounces'}"
      ]
     },
     "execution_count": 57,
     "metadata": {},
     "output_type": "execute_result"
    }
   ],
   "source": [
    "meta.loc[185875, :].details"
   ]
  },
  {
   "cell_type": "markdown",
   "metadata": {},
   "source": [
    "That is a book..."
   ]
  },
  {
   "cell_type": "code",
   "execution_count": 58,
   "metadata": {},
   "outputs": [
    {
     "data": {
      "text/plain": [
       "array([  8390,   8450,   8458, ..., 203756, 203761, 203763])"
      ]
     },
     "execution_count": 58,
     "metadata": {},
     "output_type": "execute_result"
    }
   ],
   "source": [
    "np.where(details_lengths == 3)[0]"
   ]
  },
  {
   "cell_type": "code",
   "execution_count": 59,
   "metadata": {},
   "outputs": [
    {
     "data": {
      "text/plain": [
       "{'Language:': 'English', 'Subtitles:': 'English', 'ASIN: ': '6303039553'}"
      ]
     },
     "execution_count": 59,
     "metadata": {},
     "output_type": "execute_result"
    }
   ],
   "source": [
    "meta.loc[8458, :].details"
   ]
  },
  {
   "cell_type": "code",
   "execution_count": 60,
   "metadata": {},
   "outputs": [
    {
     "data": {
      "text/plain": [
       "array([  9750,  14088,  14481, ..., 203752, 203757, 203759])"
      ]
     },
     "execution_count": 60,
     "metadata": {},
     "output_type": "execute_result"
    }
   ],
   "source": [
    "np.where(details_lengths == 4)[0]"
   ]
  },
  {
   "cell_type": "code",
   "execution_count": 62,
   "metadata": {},
   "outputs": [
    {
     "data": {
      "text/plain": [
       "{'Language:': 'English',\n",
       " 'Subtitles:': 'Spanish, English',\n",
       " 'Dubbed:': 'Spanish',\n",
       " 'ASIN: ': '6304432399'}"
      ]
     },
     "execution_count": 62,
     "metadata": {},
     "output_type": "execute_result"
    }
   ],
   "source": [
    "meta.loc[14481, :].details"
   ]
  },
  {
   "cell_type": "code",
   "execution_count": 64,
   "metadata": {},
   "outputs": [
    {
     "data": {
      "text/plain": [
       "array([ 17102,  17710,  17720, ..., 203590, 203595, 203637])"
      ]
     },
     "execution_count": 64,
     "metadata": {},
     "output_type": "execute_result"
    }
   ],
   "source": [
    "np.where(details_lengths == 5)[0]"
   ]
  },
  {
   "cell_type": "code",
   "execution_count": 65,
   "metadata": {},
   "outputs": [
    {
     "data": {
      "text/plain": [
       "{'Language:': 'English (Dolby Digital 2.0 Mono)',\n",
       " 'Subtitles:': 'English',\n",
       " 'Dubbed:': 'Spanish',\n",
       " 'Subtitles for the Hearing Impaired:': 'English',\n",
       " 'ASIN: ': '6305416192'}"
      ]
     },
     "execution_count": 65,
     "metadata": {},
     "output_type": "execute_result"
    }
   ],
   "source": [
    "meta.loc[17720, :].details"
   ]
  },
  {
   "cell_type": "code",
   "execution_count": 66,
   "metadata": {},
   "outputs": [],
   "source": [
    "unique_keys  = meta.details.apply(lambda x: get_keys(x))"
   ]
  },
  {
   "cell_type": "code",
   "execution_count": 67,
   "metadata": {},
   "outputs": [
    {
     "data": {
      "text/plain": [
       "[('ASIN: ', 195229),\n",
       " ('Language:', 122243),\n",
       " ('Subtitles:', 43587),\n",
       " ('Dubbed:', 10395),\n",
       " ('Subtitles for the Hearing Impaired:', 5447),\n",
       " ('Domestic Shipping: ', 1697),\n",
       " ('International Shipping: ', 1697),\n",
       " ('Audio Description:', 535),\n",
       " ('Shipping Weight:', 194),\n",
       " ('Digital Copy Expiration Date:', 157),\n",
       " ('\\n    Product Dimensions: \\n    ', 110),\n",
       " ('Item model number:', 67),\n",
       " ('ASIN:', 61),\n",
       " ('Number of Discs:', 28),\n",
       " ('Label:', 24),\n",
       " ('Publisher:', 16),\n",
       " ('\\n    Item Weight: \\n    ', 15),\n",
       " ('\\n    Package Dimensions: \\n    ', 15),\n",
       " ('UPC:', 10),\n",
       " ('Audio CD', 8),\n",
       " ('Run Time:', 6),\n",
       " ('ISBN-10:', 4),\n",
       " ('ISBN-13:', 4),\n",
       " ('SPARS Code:', 2),\n",
       " ('Please Note:', 2),\n",
       " ('DVD Audio', 1),\n",
       " ('Blu-ray Audio', 1),\n",
       " ('Series:', 1)]"
      ]
     },
     "execution_count": 67,
     "metadata": {},
     "output_type": "execute_result"
    }
   ],
   "source": [
    "Counter([item for sublist in unique_keys for item in sublist]).most_common(50)"
   ]
  },
  {
   "cell_type": "markdown",
   "metadata": {},
   "source": [
    "the most common key we need here is `Language`"
   ]
  }
 ],
 "metadata": {
  "kernelspec": {
   "display_name": "Environment (conda_amazon_eda)",
   "language": "python",
   "name": "conda_amazon_eda"
  },
  "language_info": {
   "codemirror_mode": {
    "name": "ipython",
    "version": 3
   },
   "file_extension": ".py",
   "mimetype": "text/x-python",
   "name": "python",
   "nbconvert_exporter": "python",
   "pygments_lexer": "ipython3",
   "version": "3.8.6"
  }
 },
 "nbformat": 4,
 "nbformat_minor": 4
}
