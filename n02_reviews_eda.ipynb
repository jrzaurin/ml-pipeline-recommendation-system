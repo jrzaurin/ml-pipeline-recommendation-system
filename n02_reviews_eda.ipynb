{
 "cells": [
  {
   "cell_type": "code",
   "execution_count": 1,
   "metadata": {},
   "outputs": [],
   "source": [
    "from pathlib import Path\n",
    "\n",
    "import pandas as pd\n",
    "import numpy as np"
   ]
  },
  {
   "cell_type": "code",
   "execution_count": 3,
   "metadata": {},
   "outputs": [],
   "source": [
    "RAW_DATA_DIR = Path(\"data/raw/amazon\")"
   ]
  },
  {
   "cell_type": "code",
   "execution_count": 20,
   "metadata": {},
   "outputs": [],
   "source": [
    "reviews = pd.read_feather(RAW_DATA_DIR / \"Movies_and_TV.f\")"
   ]
  },
  {
   "cell_type": "code",
   "execution_count": 21,
   "metadata": {},
   "outputs": [
    {
     "data": {
      "text/html": [
       "<div>\n",
       "<style scoped>\n",
       "    .dataframe tbody tr th:only-of-type {\n",
       "        vertical-align: middle;\n",
       "    }\n",
       "\n",
       "    .dataframe tbody tr th {\n",
       "        vertical-align: top;\n",
       "    }\n",
       "\n",
       "    .dataframe thead th {\n",
       "        text-align: right;\n",
       "    }\n",
       "</style>\n",
       "<table border=\"1\" class=\"dataframe\">\n",
       "  <thead>\n",
       "    <tr style=\"text-align: right;\">\n",
       "      <th></th>\n",
       "      <th>overall</th>\n",
       "      <th>verified</th>\n",
       "      <th>reviewTime</th>\n",
       "      <th>reviewerID</th>\n",
       "      <th>asin</th>\n",
       "      <th>style</th>\n",
       "      <th>reviewerName</th>\n",
       "      <th>reviewText</th>\n",
       "      <th>summary</th>\n",
       "      <th>unixReviewTime</th>\n",
       "      <th>vote</th>\n",
       "      <th>image</th>\n",
       "    </tr>\n",
       "  </thead>\n",
       "  <tbody>\n",
       "    <tr>\n",
       "      <th>0</th>\n",
       "      <td>5</td>\n",
       "      <td>True</td>\n",
       "      <td>03 11, 2013</td>\n",
       "      <td>A3478QRKQDOPQ2</td>\n",
       "      <td>0001527665</td>\n",
       "      <td>{'Color:': None, 'Format:': ' VHS Tape', 'Shap...</td>\n",
       "      <td>jacki</td>\n",
       "      <td>really happy they got evangelised .. spoiler a...</td>\n",
       "      <td>great</td>\n",
       "      <td>1362960000</td>\n",
       "      <td>None</td>\n",
       "      <td>None</td>\n",
       "    </tr>\n",
       "    <tr>\n",
       "      <th>1</th>\n",
       "      <td>5</td>\n",
       "      <td>True</td>\n",
       "      <td>02 18, 2013</td>\n",
       "      <td>A2VHSG6TZHU1OB</td>\n",
       "      <td>0001527665</td>\n",
       "      <td>{'Color:': None, 'Format:': ' Amazon Video', '...</td>\n",
       "      <td>Ken P</td>\n",
       "      <td>Having lived in West New Guinea (Papua) during...</td>\n",
       "      <td>Realistic and Accurate</td>\n",
       "      <td>1361145600</td>\n",
       "      <td>3</td>\n",
       "      <td>None</td>\n",
       "    </tr>\n",
       "    <tr>\n",
       "      <th>2</th>\n",
       "      <td>5</td>\n",
       "      <td>False</td>\n",
       "      <td>01 17, 2013</td>\n",
       "      <td>A23EJWOW1TLENE</td>\n",
       "      <td>0001527665</td>\n",
       "      <td>{'Color:': None, 'Format:': ' Amazon Video', '...</td>\n",
       "      <td>Reina Berumen</td>\n",
       "      <td>Excellent look into contextualizing the Gospel...</td>\n",
       "      <td>Peace Child</td>\n",
       "      <td>1358380800</td>\n",
       "      <td>None</td>\n",
       "      <td>None</td>\n",
       "    </tr>\n",
       "    <tr>\n",
       "      <th>3</th>\n",
       "      <td>5</td>\n",
       "      <td>True</td>\n",
       "      <td>01 10, 2013</td>\n",
       "      <td>A1KM9FNEJ8Q171</td>\n",
       "      <td>0001527665</td>\n",
       "      <td>{'Color:': None, 'Format:': ' Amazon Video', '...</td>\n",
       "      <td>N Coyle</td>\n",
       "      <td>More than anything, I've been challenged to fi...</td>\n",
       "      <td>Culturally relevant ways to share the love of ...</td>\n",
       "      <td>1357776000</td>\n",
       "      <td>None</td>\n",
       "      <td>None</td>\n",
       "    </tr>\n",
       "    <tr>\n",
       "      <th>4</th>\n",
       "      <td>4</td>\n",
       "      <td>True</td>\n",
       "      <td>12 26, 2012</td>\n",
       "      <td>A38LY2SSHVHRYB</td>\n",
       "      <td>0001527665</td>\n",
       "      <td>{'Color:': None, 'Format:': ' Amazon Video', '...</td>\n",
       "      <td>Jodie Vesely</td>\n",
       "      <td>This is a great movie for a missionary going i...</td>\n",
       "      <td>Good Movie! Great for cross-cultural missionar...</td>\n",
       "      <td>1356480000</td>\n",
       "      <td>None</td>\n",
       "      <td>None</td>\n",
       "    </tr>\n",
       "  </tbody>\n",
       "</table>\n",
       "</div>"
      ],
      "text/plain": [
       "   overall  verified   reviewTime      reviewerID        asin  \\\n",
       "0        5      True  03 11, 2013  A3478QRKQDOPQ2  0001527665   \n",
       "1        5      True  02 18, 2013  A2VHSG6TZHU1OB  0001527665   \n",
       "2        5     False  01 17, 2013  A23EJWOW1TLENE  0001527665   \n",
       "3        5      True  01 10, 2013  A1KM9FNEJ8Q171  0001527665   \n",
       "4        4      True  12 26, 2012  A38LY2SSHVHRYB  0001527665   \n",
       "\n",
       "                                               style   reviewerName  \\\n",
       "0  {'Color:': None, 'Format:': ' VHS Tape', 'Shap...          jacki   \n",
       "1  {'Color:': None, 'Format:': ' Amazon Video', '...          Ken P   \n",
       "2  {'Color:': None, 'Format:': ' Amazon Video', '...  Reina Berumen   \n",
       "3  {'Color:': None, 'Format:': ' Amazon Video', '...        N Coyle   \n",
       "4  {'Color:': None, 'Format:': ' Amazon Video', '...   Jodie Vesely   \n",
       "\n",
       "                                          reviewText  \\\n",
       "0  really happy they got evangelised .. spoiler a...   \n",
       "1  Having lived in West New Guinea (Papua) during...   \n",
       "2  Excellent look into contextualizing the Gospel...   \n",
       "3  More than anything, I've been challenged to fi...   \n",
       "4  This is a great movie for a missionary going i...   \n",
       "\n",
       "                                             summary  unixReviewTime  vote  \\\n",
       "0                                              great      1362960000  None   \n",
       "1                             Realistic and Accurate      1361145600     3   \n",
       "2                                        Peace Child      1358380800  None   \n",
       "3  Culturally relevant ways to share the love of ...      1357776000  None   \n",
       "4  Good Movie! Great for cross-cultural missionar...      1356480000  None   \n",
       "\n",
       "  image  \n",
       "0  None  \n",
       "1  None  \n",
       "2  None  \n",
       "3  None  \n",
       "4  None  "
      ]
     },
     "execution_count": 21,
     "metadata": {},
     "output_type": "execute_result"
    }
   ],
   "source": [
    "reviews.head()"
   ]
  },
  {
   "cell_type": "markdown",
   "metadata": {},
   "source": [
    "We will use the last 5 years of data to build the recsys"
   ]
  },
  {
   "cell_type": "code",
   "execution_count": 22,
   "metadata": {},
   "outputs": [],
   "source": [
    "reviews[\"reviewDate\"] = pd.to_datetime(reviews[\"unixReviewTime\"], unit=\"s\")"
   ]
  },
  {
   "cell_type": "code",
   "execution_count": 23,
   "metadata": {},
   "outputs": [],
   "source": [
    "start_date = reviews.reviewDate.max() - pd.DateOffset(years=5)"
   ]
  },
  {
   "cell_type": "code",
   "execution_count": 24,
   "metadata": {},
   "outputs": [],
   "source": [
    "reviews_sample = reviews[reviews.reviewDate >= start_date]"
   ]
  },
  {
   "cell_type": "code",
   "execution_count": 25,
   "metadata": {},
   "outputs": [
    {
     "data": {
      "text/plain": [
       "(6256392, 13)"
      ]
     },
     "execution_count": 25,
     "metadata": {},
     "output_type": "execute_result"
    }
   ],
   "source": [
    "reviews_sample.shape"
   ]
  },
  {
   "cell_type": "markdown",
   "metadata": {},
   "source": [
    "Also, to train the model, we will probably use users that have interacted with at least N items (say N=5)"
   ]
  },
  {
   "cell_type": "code",
   "execution_count": 26,
   "metadata": {},
   "outputs": [],
   "source": [
    "user_counts = reviews.reviewerID.value_counts()\n",
    "user_counts = user_counts[user_counts >= 5].reset_index()\n",
    "user_counts.columns = [\"reviewerID\", \"counts\"]"
   ]
  },
  {
   "cell_type": "code",
   "execution_count": 27,
   "metadata": {},
   "outputs": [
    {
     "data": {
      "text/html": [
       "<div>\n",
       "<style scoped>\n",
       "    .dataframe tbody tr th:only-of-type {\n",
       "        vertical-align: middle;\n",
       "    }\n",
       "\n",
       "    .dataframe tbody tr th {\n",
       "        vertical-align: top;\n",
       "    }\n",
       "\n",
       "    .dataframe thead th {\n",
       "        text-align: right;\n",
       "    }\n",
       "</style>\n",
       "<table border=\"1\" class=\"dataframe\">\n",
       "  <thead>\n",
       "    <tr style=\"text-align: right;\">\n",
       "      <th></th>\n",
       "      <th>reviewerID</th>\n",
       "      <th>counts</th>\n",
       "    </tr>\n",
       "  </thead>\n",
       "  <tbody>\n",
       "    <tr>\n",
       "      <th>0</th>\n",
       "      <td>AV6QDP8Q0ONK4</td>\n",
       "      <td>4254</td>\n",
       "    </tr>\n",
       "    <tr>\n",
       "      <th>1</th>\n",
       "      <td>A1GGOC9PVDXW7Z</td>\n",
       "      <td>2292</td>\n",
       "    </tr>\n",
       "    <tr>\n",
       "      <th>2</th>\n",
       "      <td>A328S9RN3U5M68</td>\n",
       "      <td>2175</td>\n",
       "    </tr>\n",
       "    <tr>\n",
       "      <th>3</th>\n",
       "      <td>ABO2ZI2Y5DQ9T</td>\n",
       "      <td>2136</td>\n",
       "    </tr>\n",
       "    <tr>\n",
       "      <th>4</th>\n",
       "      <td>AWG2O9C42XW5G</td>\n",
       "      <td>2046</td>\n",
       "    </tr>\n",
       "  </tbody>\n",
       "</table>\n",
       "</div>"
      ],
      "text/plain": [
       "       reviewerID  counts\n",
       "0   AV6QDP8Q0ONK4    4254\n",
       "1  A1GGOC9PVDXW7Z    2292\n",
       "2  A328S9RN3U5M68    2175\n",
       "3   ABO2ZI2Y5DQ9T    2136\n",
       "4   AWG2O9C42XW5G    2046"
      ]
     },
     "execution_count": 27,
     "metadata": {},
     "output_type": "execute_result"
    }
   ],
   "source": [
    "user_counts.head()"
   ]
  },
  {
   "cell_type": "code",
   "execution_count": 28,
   "metadata": {},
   "outputs": [],
   "source": [
    "reviews_sample = reviews_sample[\n",
    "    reviews_sample.reviewerID.isin(user_counts.reviewerID)\n",
    "]"
   ]
  },
  {
   "cell_type": "code",
   "execution_count": 29,
   "metadata": {},
   "outputs": [
    {
     "data": {
      "text/plain": [
       "(2475976, 13)"
      ]
     },
     "execution_count": 29,
     "metadata": {},
     "output_type": "execute_result"
    }
   ],
   "source": [
    "reviews_sample.shape"
   ]
  },
  {
   "cell_type": "markdown",
   "metadata": {},
   "source": [
    "For the purposes of this book/exercise we will use N (say N=3) months to run a \"live\" simulation, so let's already separate that from the data"
   ]
  },
  {
   "cell_type": "code",
   "execution_count": 38,
   "metadata": {},
   "outputs": [],
   "source": [
    "start_date = reviews_sample.reviewDate.max() - pd.DateOffset(months=3)"
   ]
  },
  {
   "cell_type": "code",
   "execution_count": 39,
   "metadata": {},
   "outputs": [
    {
     "data": {
      "text/plain": [
       "Timestamp('2018-07-01 00:00:00')"
      ]
     },
     "execution_count": 39,
     "metadata": {},
     "output_type": "execute_result"
    }
   ],
   "source": [
    "start_date"
   ]
  },
  {
   "cell_type": "code",
   "execution_count": 40,
   "metadata": {},
   "outputs": [],
   "source": [
    "data_for_live_simulation = reviews_sample[reviews_sample.reviewDate >= start_date]"
   ]
  },
  {
   "cell_type": "code",
   "execution_count": 41,
   "metadata": {},
   "outputs": [
    {
     "data": {
      "text/plain": [
       "(5529, 13)"
      ]
     },
     "execution_count": 41,
     "metadata": {},
     "output_type": "execute_result"
    }
   ],
   "source": [
    "data_for_live_simulation.shape"
   ]
  },
  {
   "cell_type": "code",
   "execution_count": 37,
   "metadata": {},
   "outputs": [
    {
     "data": {
      "text/plain": [
       "Timestamp('2018-10-01 00:00:00')"
      ]
     },
     "execution_count": 37,
     "metadata": {},
     "output_type": "execute_result"
    }
   ],
   "source": [
    "reviews_sample.reviewDate.max()"
   ]
  },
  {
   "cell_type": "code",
   "execution_count": 42,
   "metadata": {},
   "outputs": [],
   "source": [
    "reviews_sample = reviews_sample[reviews_sample.reviewDate < start_date]"
   ]
  },
  {
   "cell_type": "code",
   "execution_count": 43,
   "metadata": {},
   "outputs": [
    {
     "data": {
      "text/plain": [
       "(2470447, 13)"
      ]
     },
     "execution_count": 43,
     "metadata": {},
     "output_type": "execute_result"
    }
   ],
   "source": [
    "reviews_sample.shape"
   ]
  },
  {
   "cell_type": "code",
   "execution_count": 44,
   "metadata": {},
   "outputs": [
    {
     "data": {
      "text/plain": [
       "(Timestamp('2013-10-03 00:00:00'), Timestamp('2018-06-30 00:00:00'))"
      ]
     },
     "execution_count": 44,
     "metadata": {},
     "output_type": "execute_result"
    }
   ],
   "source": [
    "reviews_sample.reviewDate.min(), reviews_sample.reviewDate.max()"
   ]
  },
  {
   "cell_type": "markdown",
   "metadata": {},
   "source": [
    "Regarding to how one might split into train, valid and test, we could go a number of ways. We could split simply based on a timelime, which is probably what makes the most sense. Also, we could use the method followed when using the mult-VAE (splitting based on customers, rather than time) or in the neural cf paper (use the last interaction for testing and all the former for training). \n",
    "\n",
    "For the time being I will go for the 1st one and split based on the timeline, using the most recent 10% for testing and the previous 10% as validation set, but before that, let's have a look to the data"
   ]
  },
  {
   "cell_type": "code",
   "execution_count": 48,
   "metadata": {},
   "outputs": [
    {
     "data": {
      "text/plain": [
       "overall           1.000000\n",
       "verified          1.000000\n",
       "reviewTime        1.000000\n",
       "reviewerID        1.000000\n",
       "asin              1.000000\n",
       "style             0.957579\n",
       "reviewerName      0.999972\n",
       "reviewText        0.999355\n",
       "summary           0.999790\n",
       "unixReviewTime    1.000000\n",
       "vote              0.083006\n",
       "image             0.002177\n",
       "reviewDate        1.000000\n",
       "dtype: float64"
      ]
     },
     "execution_count": 48,
     "metadata": {},
     "output_type": "execute_result"
    }
   ],
   "source": [
    "reviews_sample.count()/reviews_sample.shape[0]"
   ]
  },
  {
   "cell_type": "markdown",
   "metadata": {},
   "source": [
    "## Overall (stars)"
   ]
  },
  {
   "cell_type": "code",
   "execution_count": 45,
   "metadata": {},
   "outputs": [
    {
     "data": {
      "text/plain": [
       "5    1551203\n",
       "4     445960\n",
       "3     232772\n",
       "1     129517\n",
       "2     110995\n",
       "Name: overall, dtype: int64"
      ]
     },
     "execution_count": 45,
     "metadata": {},
     "output_type": "execute_result"
    }
   ],
   "source": [
    "reviews_sample.overall.value_counts()"
   ]
  },
  {
   "cell_type": "markdown",
   "metadata": {},
   "source": [
    "as we knew, most of them are 5. If we were for a multi categorical problem, I will map 1-2 into 0, 3 as 1 and 4-5 as 2"
   ]
  },
  {
   "cell_type": "markdown",
   "metadata": {},
   "source": [
    "## Verified"
   ]
  },
  {
   "cell_type": "code",
   "execution_count": 46,
   "metadata": {},
   "outputs": [
    {
     "data": {
      "text/plain": [
       "True     2113284\n",
       "False     357163\n",
       "Name: verified, dtype: int64"
      ]
     },
     "execution_count": 46,
     "metadata": {},
     "output_type": "execute_result"
    }
   ],
   "source": [
    "reviews_sample.verified.value_counts()"
   ]
  },
  {
   "cell_type": "markdown",
   "metadata": {},
   "source": [
    "binary, categorical feature"
   ]
  },
  {
   "cell_type": "markdown",
   "metadata": {},
   "source": [
    "## reviewTime\n",
    "\n",
    "Here we could build a number of behavioural features: most commin time of the day when they buy, most common day of the week or mean or median timediff between events "
   ]
  },
  {
   "cell_type": "markdown",
   "metadata": {},
   "source": [
    "## reviewerID\n",
    "\n",
    "I will find the presentation where the guys at Catboost use users as a categorical feature (would be \"equivalent\" as using embeddings) but when using lightgbm/catboost, I intend to use it as cat feature and see what happens. "
   ]
  },
  {
   "cell_type": "markdown",
   "metadata": {},
   "source": [
    "## asin\n",
    "\n",
    "Here we could build user features based on the products they buy, for example: most common category or min/max/mean/median price.\n",
    "\n",
    "Also, same comment as before applies"
   ]
  },
  {
   "cell_type": "markdown",
   "metadata": {},
   "source": []
  }
 ],
 "metadata": {
  "kernelspec": {
   "display_name": "Environment (conda_amazon_eda)",
   "language": "python",
   "name": "conda_amazon_eda"
  },
  "language_info": {
   "codemirror_mode": {
    "name": "ipython",
    "version": 3
   },
   "file_extension": ".py",
   "mimetype": "text/x-python",
   "name": "python",
   "nbconvert_exporter": "python",
   "pygments_lexer": "ipython3",
   "version": "3.8.6"
  }
 },
 "nbformat": 4,
 "nbformat_minor": 4
}
